{
 "cells": [
  {
   "cell_type": "code",
   "execution_count": 8,
   "id": "5f9e3395-93e4-4cbb-adaf-e47abc2b6b25",
   "metadata": {},
   "outputs": [],
   "source": [
    "# Загрузка модулей\n",
    "\n",
    "import tensorflow as tf\n",
    "#tf.enable_eager_execution()\n",
    "import numpy as np\n",
    "import pandas as pd\n",
    "import matplotlib.pyplot as plt"
   ]
  },
  {
   "cell_type": "code",
   "execution_count": 29,
   "id": "e4812c5e-2094-4c45-bda2-6d0a649f7e1a",
   "metadata": {},
   "outputs": [
    {
     "name": "stdout",
     "output_type": "stream",
     "text": [
      "Collecting git+https://github.com/rcmalli/keras-vggface.git\n",
      "  Cloning https://github.com/rcmalli/keras-vggface.git to c:\\users\\frolov\\appdata\\local\\temp\\pip-req-build-zcftikxf\n",
      "  Resolved https://github.com/rcmalli/keras-vggface.git to commit bee35376e76e35d00aeec503f2f242611a97b38a\n",
      "  Preparing metadata (setup.py): started\n",
      "  Preparing metadata (setup.py): finished with status 'done'\n",
      "Requirement already satisfied: numpy>=1.9.1 in c:\\conda_new\\lib\\site-packages (from keras-vggface==0.6) (1.26.4)\n",
      "Requirement already satisfied: scipy>=0.14 in c:\\conda_new\\lib\\site-packages (from keras-vggface==0.6) (1.12.0)\n",
      "Requirement already satisfied: h5py in c:\\conda_new\\lib\\site-packages (from keras-vggface==0.6) (3.9.0)\n",
      "Requirement already satisfied: pillow in c:\\conda_new\\lib\\site-packages (from keras-vggface==0.6) (10.2.0)\n",
      "Requirement already satisfied: keras in c:\\conda_new\\lib\\site-packages (from keras-vggface==0.6) (3.4.1)\n",
      "Requirement already satisfied: six>=1.9.0 in c:\\conda_new\\lib\\site-packages (from keras-vggface==0.6) (1.16.0)\n",
      "Requirement already satisfied: pyyaml in c:\\conda_new\\lib\\site-packages (from keras-vggface==0.6) (6.0.1)\n",
      "Requirement already satisfied: absl-py in c:\\conda_new\\lib\\site-packages (from keras->keras-vggface==0.6) (2.0.0)\n",
      "Requirement already satisfied: rich in c:\\conda_new\\lib\\site-packages (from keras->keras-vggface==0.6) (13.3.5)\n",
      "Requirement already satisfied: namex in c:\\conda_new\\lib\\site-packages (from keras->keras-vggface==0.6) (0.0.8)\n",
      "Requirement already satisfied: optree in c:\\conda_new\\lib\\site-packages (from keras->keras-vggface==0.6) (0.12.1)\n",
      "Requirement already satisfied: ml-dtypes in c:\\conda_new\\lib\\site-packages (from keras->keras-vggface==0.6) (0.2.0)\n",
      "Requirement already satisfied: packaging in c:\\conda_new\\lib\\site-packages (from keras->keras-vggface==0.6) (23.2)\n",
      "Requirement already satisfied: typing-extensions>=4.5.0 in c:\\conda_new\\lib\\site-packages (from optree->keras->keras-vggface==0.6) (4.9.0)\n",
      "Requirement already satisfied: markdown-it-py<3.0.0,>=2.2.0 in c:\\conda_new\\lib\\site-packages (from rich->keras->keras-vggface==0.6) (2.2.0)\n",
      "Requirement already satisfied: pygments<3.0.0,>=2.13.0 in c:\\conda_new\\lib\\site-packages (from rich->keras->keras-vggface==0.6) (2.15.1)\n",
      "Requirement already satisfied: mdurl~=0.1 in c:\\conda_new\\lib\\site-packages (from markdown-it-py<3.0.0,>=2.2.0->rich->keras->keras-vggface==0.6) (0.1.0)\n"
     ]
    },
    {
     "name": "stderr",
     "output_type": "stream",
     "text": [
      "  Running command git clone --filter=blob:none --quiet https://github.com/rcmalli/keras-vggface.git 'C:\\Users\\frolov\\AppData\\Local\\Temp\\pip-req-build-zcftikxf'\n"
     ]
    }
   ],
   "source": [
    "# Загрузка моделей VGGface\n",
    "! pip install git+https://github.com/rcmalli/keras-vggface.git"
   ]
  },
  {
   "cell_type": "code",
   "execution_count": 30,
   "id": "0452360c-356a-45ec-8d69-4abf96f44771",
   "metadata": {},
   "outputs": [],
   "source": [
    "# Загрузка библиотеки для удобного определения пути к файлам\n",
    "import pathlib\n",
    "from pathlib import Path\n",
    "\n",
    "#Получаем строку, содержащую путь к рабочей директории:\n",
    "work_path = pathlib.Path.cwd()"
   ]
  },
  {
   "cell_type": "code",
   "execution_count": 31,
   "id": "e3866909-a9c8-4d4d-998b-2bc5bc37fa8d",
   "metadata": {},
   "outputs": [],
   "source": [
    "# Загрузка библиотеки для удобного определения пути к файлам\n",
    "import pathlib\n",
    "from pathlib import Path\n",
    "\n",
    "#Получаем строку, содержащую путь к рабочей директории:\n",
    "work_path = pathlib.Path.cwd()"
   ]
  },
  {
   "cell_type": "code",
   "execution_count": 32,
   "id": "42d3d242-13f6-424a-b1db-be161cd7314a",
   "metadata": {},
   "outputs": [
    {
     "name": "stdout",
     "output_type": "stream",
     "text": [
      "C:\\Users\\frolov\\02_Graduation_project\n"
     ]
    }
   ],
   "source": [
    "print(work_path)"
   ]
  },
  {
   "cell_type": "code",
   "execution_count": 33,
   "id": "c3aea6ae-6cd7-43bf-b995-fad1c598e413",
   "metadata": {},
   "outputs": [],
   "source": [
    "# сохраним путь к csv файлу в переменной data_path\n",
    "data_path = Path(work_path, 'csv_files', 'train.csv')"
   ]
  },
  {
   "cell_type": "code",
   "execution_count": 34,
   "id": "2a5d98f5-cdca-48d5-83cc-9b37ee219e91",
   "metadata": {},
   "outputs": [
    {
     "data": {
      "text/plain": [
       "WindowsPath('C:/Users/frolov/02_Graduation_project/csv_files/train.csv')"
      ]
     },
     "execution_count": 34,
     "metadata": {},
     "output_type": "execute_result"
    }
   ],
   "source": [
    "data_path"
   ]
  },
  {
   "cell_type": "code",
   "execution_count": 35,
   "id": "38ac76b9-8428-4dbf-a96c-0a1d3f6f8733",
   "metadata": {},
   "outputs": [],
   "source": [
    "# Загружаем данные из csv файла в переменную data\n",
    "data = pd.read_csv(data_path, index_col=0)"
   ]
  },
  {
   "cell_type": "code",
   "execution_count": 36,
   "id": "ae95c28f-2519-4f73-a31b-5c989c609011",
   "metadata": {},
   "outputs": [
    {
     "data": {
      "text/html": [
       "<div>\n",
       "<style scoped>\n",
       "    .dataframe tbody tr th:only-of-type {\n",
       "        vertical-align: middle;\n",
       "    }\n",
       "\n",
       "    .dataframe tbody tr th {\n",
       "        vertical-align: top;\n",
       "    }\n",
       "\n",
       "    .dataframe thead th {\n",
       "        text-align: right;\n",
       "    }\n",
       "</style>\n",
       "<table border=\"1\" class=\"dataframe\">\n",
       "  <thead>\n",
       "    <tr style=\"text-align: right;\">\n",
       "      <th></th>\n",
       "      <th>image_path</th>\n",
       "      <th>emotion</th>\n",
       "    </tr>\n",
       "  </thead>\n",
       "  <tbody>\n",
       "    <tr>\n",
       "      <th>0</th>\n",
       "      <td>./train/anger/0.jpg</td>\n",
       "      <td>anger</td>\n",
       "    </tr>\n",
       "    <tr>\n",
       "      <th>1</th>\n",
       "      <td>./train/anger/1.jpg</td>\n",
       "      <td>anger</td>\n",
       "    </tr>\n",
       "    <tr>\n",
       "      <th>2</th>\n",
       "      <td>./train/anger/10.jpg</td>\n",
       "      <td>anger</td>\n",
       "    </tr>\n",
       "    <tr>\n",
       "      <th>3</th>\n",
       "      <td>./train/anger/100.jpg</td>\n",
       "      <td>anger</td>\n",
       "    </tr>\n",
       "    <tr>\n",
       "      <th>4</th>\n",
       "      <td>./train/anger/1000.jpg</td>\n",
       "      <td>anger</td>\n",
       "    </tr>\n",
       "  </tbody>\n",
       "</table>\n",
       "</div>"
      ],
      "text/plain": [
       "               image_path emotion\n",
       "0     ./train/anger/0.jpg   anger\n",
       "1     ./train/anger/1.jpg   anger\n",
       "2    ./train/anger/10.jpg   anger\n",
       "3   ./train/anger/100.jpg   anger\n",
       "4  ./train/anger/1000.jpg   anger"
      ]
     },
     "execution_count": 36,
     "metadata": {},
     "output_type": "execute_result"
    }
   ],
   "source": [
    "# Создание датасета\n",
    "data.head(5)"
   ]
  },
  {
   "cell_type": "code",
   "execution_count": 37,
   "id": "981c0e37-9be9-45b8-b666-e1ec4d1ff823",
   "metadata": {},
   "outputs": [
    {
     "data": {
      "text/plain": [
       "array(['anger', 'contempt', 'disgust', 'fear', 'happy', 'neutral', 'sad',\n",
       "       'surprise', 'uncertain'], dtype=object)"
      ]
     },
     "execution_count": 37,
     "metadata": {},
     "output_type": "execute_result"
    }
   ],
   "source": [
    "# Список уникальных названий эмоций в датасете\n",
    "data['emotion'].unique()"
   ]
  },
  {
   "cell_type": "code",
   "execution_count": 38,
   "id": "3362af79-b66f-467a-9cdc-f2ff137327ac",
   "metadata": {},
   "outputs": [
    {
     "name": "stdout",
     "output_type": "stream",
     "text": [
      "{'anger': 0, 'contempt': 1, 'disgust': 2, 'fear': 3, 'happy': 4, 'neutral': 5, 'sad': 6, 'surprise': 7, 'uncertain': 8}\n"
     ]
    }
   ],
   "source": [
    "# Создание словаря для создания колонки с нумерацией эмоций\n",
    "emotions = ['anger', 'contempt', 'disgust', 'fear', 'happy', 'neutral', 'sad',\n",
    "       'surprise', 'uncertain']\n",
    "numbers = [0, 1, 2, 3, 4, 5, 6, 7, 8, 9]\n",
    "res = dict(zip(emotions, numbers))\n",
    "print(res)"
   ]
  },
  {
   "cell_type": "code",
   "execution_count": 39,
   "id": "8c54d6d1-f985-46bd-be2d-50b4215e16c2",
   "metadata": {},
   "outputs": [],
   "source": [
    "# Добавляем колонку с присвоенными каждой эмоции номером\n",
    "data['numeration'] = data['emotion'].apply(lambda x: res.get(x))"
   ]
  },
  {
   "cell_type": "code",
   "execution_count": 40,
   "id": "5fc4a92e-4d9b-47ed-94c9-ad21cd9a5cd0",
   "metadata": {},
   "outputs": [
    {
     "data": {
      "text/html": [
       "<div>\n",
       "<style scoped>\n",
       "    .dataframe tbody tr th:only-of-type {\n",
       "        vertical-align: middle;\n",
       "    }\n",
       "\n",
       "    .dataframe tbody tr th {\n",
       "        vertical-align: top;\n",
       "    }\n",
       "\n",
       "    .dataframe thead th {\n",
       "        text-align: right;\n",
       "    }\n",
       "</style>\n",
       "<table border=\"1\" class=\"dataframe\">\n",
       "  <thead>\n",
       "    <tr style=\"text-align: right;\">\n",
       "      <th></th>\n",
       "      <th>image_path</th>\n",
       "      <th>emotion</th>\n",
       "      <th>numeration</th>\n",
       "    </tr>\n",
       "  </thead>\n",
       "  <tbody>\n",
       "    <tr>\n",
       "      <th>0</th>\n",
       "      <td>./train/anger/0.jpg</td>\n",
       "      <td>anger</td>\n",
       "      <td>0</td>\n",
       "    </tr>\n",
       "    <tr>\n",
       "      <th>1</th>\n",
       "      <td>./train/anger/1.jpg</td>\n",
       "      <td>anger</td>\n",
       "      <td>0</td>\n",
       "    </tr>\n",
       "    <tr>\n",
       "      <th>2</th>\n",
       "      <td>./train/anger/10.jpg</td>\n",
       "      <td>anger</td>\n",
       "      <td>0</td>\n",
       "    </tr>\n",
       "    <tr>\n",
       "      <th>3</th>\n",
       "      <td>./train/anger/100.jpg</td>\n",
       "      <td>anger</td>\n",
       "      <td>0</td>\n",
       "    </tr>\n",
       "    <tr>\n",
       "      <th>4</th>\n",
       "      <td>./train/anger/1000.jpg</td>\n",
       "      <td>anger</td>\n",
       "      <td>0</td>\n",
       "    </tr>\n",
       "  </tbody>\n",
       "</table>\n",
       "</div>"
      ],
      "text/plain": [
       "               image_path emotion  numeration\n",
       "0     ./train/anger/0.jpg   anger           0\n",
       "1     ./train/anger/1.jpg   anger           0\n",
       "2    ./train/anger/10.jpg   anger           0\n",
       "3   ./train/anger/100.jpg   anger           0\n",
       "4  ./train/anger/1000.jpg   anger           0"
      ]
     },
     "execution_count": 40,
     "metadata": {},
     "output_type": "execute_result"
    }
   ],
   "source": [
    "data.head()"
   ]
  },
  {
   "cell_type": "code",
   "execution_count": 41,
   "id": "0f416dd0-9b84-4dae-b18c-62c161ab83d8",
   "metadata": {},
   "outputs": [
    {
     "data": {
      "text/html": [
       "<div>\n",
       "<style scoped>\n",
       "    .dataframe tbody tr th:only-of-type {\n",
       "        vertical-align: middle;\n",
       "    }\n",
       "\n",
       "    .dataframe tbody tr th {\n",
       "        vertical-align: top;\n",
       "    }\n",
       "\n",
       "    .dataframe thead th {\n",
       "        text-align: right;\n",
       "    }\n",
       "</style>\n",
       "<table border=\"1\" class=\"dataframe\">\n",
       "  <thead>\n",
       "    <tr style=\"text-align: right;\">\n",
       "      <th></th>\n",
       "      <th>image_path</th>\n",
       "      <th>emotion</th>\n",
       "      <th>numeration</th>\n",
       "    </tr>\n",
       "  </thead>\n",
       "  <tbody>\n",
       "    <tr>\n",
       "      <th>44119</th>\n",
       "      <td>./train/uncertain/0.jpg</td>\n",
       "      <td>uncertain</td>\n",
       "      <td>8</td>\n",
       "    </tr>\n",
       "    <tr>\n",
       "      <th>44120</th>\n",
       "      <td>./train/uncertain/1.jpg</td>\n",
       "      <td>uncertain</td>\n",
       "      <td>8</td>\n",
       "    </tr>\n",
       "    <tr>\n",
       "      <th>44121</th>\n",
       "      <td>./train/uncertain/10.jpg</td>\n",
       "      <td>uncertain</td>\n",
       "      <td>8</td>\n",
       "    </tr>\n",
       "    <tr>\n",
       "      <th>44122</th>\n",
       "      <td>./train/uncertain/100.jpg</td>\n",
       "      <td>uncertain</td>\n",
       "      <td>8</td>\n",
       "    </tr>\n",
       "    <tr>\n",
       "      <th>44123</th>\n",
       "      <td>./train/uncertain/1000.jpg</td>\n",
       "      <td>uncertain</td>\n",
       "      <td>8</td>\n",
       "    </tr>\n",
       "    <tr>\n",
       "      <th>...</th>\n",
       "      <td>...</td>\n",
       "      <td>...</td>\n",
       "      <td>...</td>\n",
       "    </tr>\n",
       "    <tr>\n",
       "      <th>50041</th>\n",
       "      <td>./train/uncertain/995.jpg</td>\n",
       "      <td>uncertain</td>\n",
       "      <td>8</td>\n",
       "    </tr>\n",
       "    <tr>\n",
       "      <th>50042</th>\n",
       "      <td>./train/uncertain/996.jpg</td>\n",
       "      <td>uncertain</td>\n",
       "      <td>8</td>\n",
       "    </tr>\n",
       "    <tr>\n",
       "      <th>50043</th>\n",
       "      <td>./train/uncertain/997.jpg</td>\n",
       "      <td>uncertain</td>\n",
       "      <td>8</td>\n",
       "    </tr>\n",
       "    <tr>\n",
       "      <th>50044</th>\n",
       "      <td>./train/uncertain/998.jpg</td>\n",
       "      <td>uncertain</td>\n",
       "      <td>8</td>\n",
       "    </tr>\n",
       "    <tr>\n",
       "      <th>50045</th>\n",
       "      <td>./train/uncertain/999.jpg</td>\n",
       "      <td>uncertain</td>\n",
       "      <td>8</td>\n",
       "    </tr>\n",
       "  </tbody>\n",
       "</table>\n",
       "<p>5927 rows × 3 columns</p>\n",
       "</div>"
      ],
      "text/plain": [
       "                       image_path    emotion  numeration\n",
       "44119     ./train/uncertain/0.jpg  uncertain           8\n",
       "44120     ./train/uncertain/1.jpg  uncertain           8\n",
       "44121    ./train/uncertain/10.jpg  uncertain           8\n",
       "44122   ./train/uncertain/100.jpg  uncertain           8\n",
       "44123  ./train/uncertain/1000.jpg  uncertain           8\n",
       "...                           ...        ...         ...\n",
       "50041   ./train/uncertain/995.jpg  uncertain           8\n",
       "50042   ./train/uncertain/996.jpg  uncertain           8\n",
       "50043   ./train/uncertain/997.jpg  uncertain           8\n",
       "50044   ./train/uncertain/998.jpg  uncertain           8\n",
       "50045   ./train/uncertain/999.jpg  uncertain           8\n",
       "\n",
       "[5927 rows x 3 columns]"
      ]
     },
     "execution_count": 41,
     "metadata": {},
     "output_type": "execute_result"
    }
   ],
   "source": [
    "# Дополнительная проверка соответствия нумерации эмоций\n",
    "data.loc[data['emotion'] == 'uncertain']"
   ]
  },
  {
   "cell_type": "markdown",
   "id": "b1de4da1-eedc-46ee-b819-6da688d0d626",
   "metadata": {},
   "source": [
    "Распечатать фотографию по указанному в датасете пути, чтобы убедится в доступности изображений."
   ]
  },
  {
   "cell_type": "code",
   "execution_count": 42,
   "id": "75b70ed7-e21a-4efd-9bfa-a1c9973e4e03",
   "metadata": {},
   "outputs": [],
   "source": [
    "# Указание на путь до изображений\n",
    "\n",
    "data_folder = Path('C:/Users/frolov/02_Graduation_project/')\n",
    "#data_folder = Path('C:/Users/Vladimir/02_Graduation_project/')"
   ]
  },
  {
   "cell_type": "code",
   "execution_count": 43,
   "id": "3ed02b97-b614-42cb-9006-ec45ac9947be",
   "metadata": {},
   "outputs": [],
   "source": [
    "# Функции для распечатки изображений\n",
    "\n",
    "def decode_labels(emotion_id):\n",
    "    return emotion_mapping[int(emotion_id)]\n",
    "def show_face(image, emotion_id):  # image printouts\n",
    "    plt.imshow(image)\n",
    "    emotion = decode_labels(emotion_id)\n",
    "    plt.title(f'Emotion: {emotion}')"
   ]
  },
  {
   "cell_type": "code",
   "execution_count": 44,
   "id": "c5ad97b0-0f76-4833-80bf-34c2ee796761",
   "metadata": {},
   "outputs": [
    {
     "name": "stdout",
     "output_type": "stream",
     "text": [
      "{0: 'anger', 1: 'contempt', 2: 'disgust', 3: 'fear', 4: 'happy', 5: 'neutral', 6: 'sad', 7: 'surprise', 8: 'uncertain'}\n"
     ]
    }
   ],
   "source": [
    "# Нумерация эмоций\n",
    "emotion_mapping = dict(list(enumerate(('anger', 'contempt', 'disgust', 'fear', 'happy', 'neutral', 'sad',\n",
    "       'surprise', 'uncertain'))))\n",
    "print(emotion_mapping)"
   ]
  },
  {
   "cell_type": "code",
   "execution_count": 80,
   "id": "6c555b12-a369-41b2-a968-db40a9a9c984",
   "metadata": {},
   "outputs": [
    {
     "data": {
      "image/png": "[encoded data removed]",
      "text/plain": [
       "<Figure size 640x480 with 1 Axes>"
      ]
     },
     "metadata": {},
     "output_type": "display_data"
    }
   ],
   "source": [
    "# Распечатка изображения с обозначением эмоции - ТЕСТ\n",
    "row = data.iloc[np.random.randint(len(data))]\n",
    "img = plt.imread(str(data_folder / row['image_path']))\n",
    "show_face(img, row['numeration'])"
   ]
  },
  {
   "cell_type": "markdown",
   "id": "fcd9ea49-0bfa-49b9-8791-fd94af6912f5",
   "metadata": {},
   "source": [
    "### Создание модели\n",
    "for keras-3.0.5 & tensorflow-2.16.1 the way for importing ImageDataGenerator is\r\n",
    "* \r\n",
    "from keras.src.legacy.preprocessing.image import ImageDataGenerator"
   ]
  },
  {
   "cell_type": "code",
   "execution_count": 113,
   "id": "83357be0-601b-4e64-8fa0-b4a9706f73c8",
   "metadata": {},
   "outputs": [],
   "source": [
    "import matplotlib.pyplot as plt\n",
    "import numpy as np\n",
    "from pathlib import Path\n",
    "import tensorflow as tf\n",
    "\n",
    "# import keras.api._v2.keras as keras # try to resolve error No module named 'keras.api._v2'\n",
    "#from tensorflow.keras.preprocessing.image import ImageDataGenerator\n",
    "# from keras.preprocessing.image import ImageDataGenerator\n",
    "from keras.src.legacy.preprocessing.image import ImageDataGenerator\n",
    "\n",
    "BATCH_SIZE = 512\n",
    "IMG_SHAPE  = 128\n",
    "\n",
    "dir = Path(\"C:/Users/frolov/02_Graduation_project/train\")"
   ]
  },
  {
   "cell_type": "code",
   "execution_count": 99,
   "id": "953248f3-befb-4f8d-b030-bb53431529e4",
   "metadata": {},
   "outputs": [
    {
     "name": "stdout",
     "output_type": "stream",
     "text": [
      "Found 40040 images belonging to 9 classes.\n",
      "Found 10007 images belonging to 9 classes.\n"
     ]
    }
   ],
   "source": [
    "# fine tuning и аугментация данных\n",
    "\n",
    "# from tensorflow.keras.applications.vgg19 import preprocess_input\n",
    "from keras.applications.vgg19 import preprocess_input\n",
    "\n",
    "image_gen = ImageDataGenerator(preprocessing_function=preprocess_input, # препроцессинг\n",
    "                               validation_split=0.2, # размер валидационной выборки, так как всё берётся из одной папки\n",
    "                               rotation_range=40,  # максимальный угол поворота\n",
    "                               width_shift_range=0.2, # смещение максимум на 20% ширины по горизонтали\n",
    "                               height_shift_range=0.2, # смещение максимум на 20% высоты по вертикали\n",
    "                               zoom_range=0.2, # картинка будет увеличена или уменьшена не более чем на 20%\n",
    "                               horizontal_flip=True, # случайное отражение по горизонтали\n",
    "                               fill_mode=\"nearest\") # чем заполнять пробелы\n",
    "\n",
    "train_data_gen = image_gen.flow_from_directory(batch_size=BATCH_SIZE, # размер батча\n",
    "                                               directory=dir, # директория для доступа к изображениям\n",
    "                                               shuffle=True, # перемешивать ли данные\n",
    "                                               target_size=(IMG_SHAPE,IMG_SHAPE), # размер изображения\n",
    "                                               class_mode=\"categorical\", # тип классового распределения\n",
    "                                               subset = \"training\") # указываем, что данная выборка тренировочная\n",
    "\n",
    "val_data_gen = image_gen.flow_from_directory(batch_size=BATCH_SIZE,\n",
    "                                             directory=dir,\n",
    "                                             shuffle=False,\n",
    "                                             target_size=(IMG_SHAPE,IMG_SHAPE),\n",
    "                                             class_mode='categorical',\n",
    "                                             subset = \"validation\") # указываем, что данная выборка валидационная"
   ]
  },
  {
   "cell_type": "code",
   "execution_count": 101,
   "id": "7ac06542-4b83-4327-8d7a-67c6ab97fa30",
   "metadata": {},
   "outputs": [
    {
     "data": {
      "text/html": [
       "<pre style=\"white-space:pre;overflow-x:auto;line-height:normal;font-family:Menlo,'DejaVu Sans Mono',consolas,'Courier New',monospace\"><span style=\"font-weight: bold\">Model: \"vgg19\"</span>\n",
       "</pre>\n"
      ],
      "text/plain": [
       "\u001b[1mModel: \"vgg19\"\u001b[0m\n"
      ]
     },
     "metadata": {},
     "output_type": "display_data"
    },
    {
     "data": {
      "text/html": [
       "<pre style=\"white-space:pre;overflow-x:auto;line-height:normal;font-family:Menlo,'DejaVu Sans Mono',consolas,'Courier New',monospace\">┏━━━━━━━━━━━━━━━━━━━━━━━━━━━━━━━━━━━━━━┳━━━━━━━━━━━━━━━━━━━━━━━━━━━━━┳━━━━━━━━━━━━━━━━━┓\n",
       "┃<span style=\"font-weight: bold\"> Layer (type)                         </span>┃<span style=\"font-weight: bold\"> Output Shape                </span>┃<span style=\"font-weight: bold\">         Param # </span>┃\n",
       "┡━━━━━━━━━━━━━━━━━━━━━━━━━━━━━━━━━━━━━━╇━━━━━━━━━━━━━━━━━━━━━━━━━━━━━╇━━━━━━━━━━━━━━━━━┩\n",
       "│ input_layer (<span style=\"color: #0087ff; text-decoration-color: #0087ff\">InputLayer</span>)             │ (<span style=\"color: #00d7ff; text-decoration-color: #00d7ff\">None</span>, <span style=\"color: #00af00; text-decoration-color: #00af00\">128</span>, <span style=\"color: #00af00; text-decoration-color: #00af00\">128</span>, <span style=\"color: #00af00; text-decoration-color: #00af00\">3</span>)         │               <span style=\"color: #00af00; text-decoration-color: #00af00\">0</span> │\n",
       "├──────────────────────────────────────┼─────────────────────────────┼─────────────────┤\n",
       "│ block1_conv1 (<span style=\"color: #0087ff; text-decoration-color: #0087ff\">Conv2D</span>)                │ (<span style=\"color: #00d7ff; text-decoration-color: #00d7ff\">None</span>, <span style=\"color: #00af00; text-decoration-color: #00af00\">128</span>, <span style=\"color: #00af00; text-decoration-color: #00af00\">128</span>, <span style=\"color: #00af00; text-decoration-color: #00af00\">64</span>)        │           <span style=\"color: #00af00; text-decoration-color: #00af00\">1,792</span> │\n",
       "├──────────────────────────────────────┼─────────────────────────────┼─────────────────┤\n",
       "│ block1_conv2 (<span style=\"color: #0087ff; text-decoration-color: #0087ff\">Conv2D</span>)                │ (<span style=\"color: #00d7ff; text-decoration-color: #00d7ff\">None</span>, <span style=\"color: #00af00; text-decoration-color: #00af00\">128</span>, <span style=\"color: #00af00; text-decoration-color: #00af00\">128</span>, <span style=\"color: #00af00; text-decoration-color: #00af00\">64</span>)        │          <span style=\"color: #00af00; text-decoration-color: #00af00\">36,928</span> │\n",
       "├──────────────────────────────────────┼─────────────────────────────┼─────────────────┤\n",
       "│ block1_pool (<span style=\"color: #0087ff; text-decoration-color: #0087ff\">MaxPooling2D</span>)           │ (<span style=\"color: #00d7ff; text-decoration-color: #00d7ff\">None</span>, <span style=\"color: #00af00; text-decoration-color: #00af00\">64</span>, <span style=\"color: #00af00; text-decoration-color: #00af00\">64</span>, <span style=\"color: #00af00; text-decoration-color: #00af00\">64</span>)          │               <span style=\"color: #00af00; text-decoration-color: #00af00\">0</span> │\n",
       "├──────────────────────────────────────┼─────────────────────────────┼─────────────────┤\n",
       "│ block2_conv1 (<span style=\"color: #0087ff; text-decoration-color: #0087ff\">Conv2D</span>)                │ (<span style=\"color: #00d7ff; text-decoration-color: #00d7ff\">None</span>, <span style=\"color: #00af00; text-decoration-color: #00af00\">64</span>, <span style=\"color: #00af00; text-decoration-color: #00af00\">64</span>, <span style=\"color: #00af00; text-decoration-color: #00af00\">128</span>)         │          <span style=\"color: #00af00; text-decoration-color: #00af00\">73,856</span> │\n",
       "├──────────────────────────────────────┼─────────────────────────────┼─────────────────┤\n",
       "│ block2_conv2 (<span style=\"color: #0087ff; text-decoration-color: #0087ff\">Conv2D</span>)                │ (<span style=\"color: #00d7ff; text-decoration-color: #00d7ff\">None</span>, <span style=\"color: #00af00; text-decoration-color: #00af00\">64</span>, <span style=\"color: #00af00; text-decoration-color: #00af00\">64</span>, <span style=\"color: #00af00; text-decoration-color: #00af00\">128</span>)         │         <span style=\"color: #00af00; text-decoration-color: #00af00\">147,584</span> │\n",
       "├──────────────────────────────────────┼─────────────────────────────┼─────────────────┤\n",
       "│ block2_pool (<span style=\"color: #0087ff; text-decoration-color: #0087ff\">MaxPooling2D</span>)           │ (<span style=\"color: #00d7ff; text-decoration-color: #00d7ff\">None</span>, <span style=\"color: #00af00; text-decoration-color: #00af00\">32</span>, <span style=\"color: #00af00; text-decoration-color: #00af00\">32</span>, <span style=\"color: #00af00; text-decoration-color: #00af00\">128</span>)         │               <span style=\"color: #00af00; text-decoration-color: #00af00\">0</span> │\n",
       "├──────────────────────────────────────┼─────────────────────────────┼─────────────────┤\n",
       "│ block3_conv1 (<span style=\"color: #0087ff; text-decoration-color: #0087ff\">Conv2D</span>)                │ (<span style=\"color: #00d7ff; text-decoration-color: #00d7ff\">None</span>, <span style=\"color: #00af00; text-decoration-color: #00af00\">32</span>, <span style=\"color: #00af00; text-decoration-color: #00af00\">32</span>, <span style=\"color: #00af00; text-decoration-color: #00af00\">256</span>)         │         <span style=\"color: #00af00; text-decoration-color: #00af00\">295,168</span> │\n",
       "├──────────────────────────────────────┼─────────────────────────────┼─────────────────┤\n",
       "│ block3_conv2 (<span style=\"color: #0087ff; text-decoration-color: #0087ff\">Conv2D</span>)                │ (<span style=\"color: #00d7ff; text-decoration-color: #00d7ff\">None</span>, <span style=\"color: #00af00; text-decoration-color: #00af00\">32</span>, <span style=\"color: #00af00; text-decoration-color: #00af00\">32</span>, <span style=\"color: #00af00; text-decoration-color: #00af00\">256</span>)         │         <span style=\"color: #00af00; text-decoration-color: #00af00\">590,080</span> │\n",
       "├──────────────────────────────────────┼─────────────────────────────┼─────────────────┤\n",
       "│ block3_conv3 (<span style=\"color: #0087ff; text-decoration-color: #0087ff\">Conv2D</span>)                │ (<span style=\"color: #00d7ff; text-decoration-color: #00d7ff\">None</span>, <span style=\"color: #00af00; text-decoration-color: #00af00\">32</span>, <span style=\"color: #00af00; text-decoration-color: #00af00\">32</span>, <span style=\"color: #00af00; text-decoration-color: #00af00\">256</span>)         │         <span style=\"color: #00af00; text-decoration-color: #00af00\">590,080</span> │\n",
       "├──────────────────────────────────────┼─────────────────────────────┼─────────────────┤\n",
       "│ block3_conv4 (<span style=\"color: #0087ff; text-decoration-color: #0087ff\">Conv2D</span>)                │ (<span style=\"color: #00d7ff; text-decoration-color: #00d7ff\">None</span>, <span style=\"color: #00af00; text-decoration-color: #00af00\">32</span>, <span style=\"color: #00af00; text-decoration-color: #00af00\">32</span>, <span style=\"color: #00af00; text-decoration-color: #00af00\">256</span>)         │         <span style=\"color: #00af00; text-decoration-color: #00af00\">590,080</span> │\n",
       "├──────────────────────────────────────┼─────────────────────────────┼─────────────────┤\n",
       "│ block3_pool (<span style=\"color: #0087ff; text-decoration-color: #0087ff\">MaxPooling2D</span>)           │ (<span style=\"color: #00d7ff; text-decoration-color: #00d7ff\">None</span>, <span style=\"color: #00af00; text-decoration-color: #00af00\">16</span>, <span style=\"color: #00af00; text-decoration-color: #00af00\">16</span>, <span style=\"color: #00af00; text-decoration-color: #00af00\">256</span>)         │               <span style=\"color: #00af00; text-decoration-color: #00af00\">0</span> │\n",
       "├──────────────────────────────────────┼─────────────────────────────┼─────────────────┤\n",
       "│ block4_conv1 (<span style=\"color: #0087ff; text-decoration-color: #0087ff\">Conv2D</span>)                │ (<span style=\"color: #00d7ff; text-decoration-color: #00d7ff\">None</span>, <span style=\"color: #00af00; text-decoration-color: #00af00\">16</span>, <span style=\"color: #00af00; text-decoration-color: #00af00\">16</span>, <span style=\"color: #00af00; text-decoration-color: #00af00\">512</span>)         │       <span style=\"color: #00af00; text-decoration-color: #00af00\">1,180,160</span> │\n",
       "├──────────────────────────────────────┼─────────────────────────────┼─────────────────┤\n",
       "│ block4_conv2 (<span style=\"color: #0087ff; text-decoration-color: #0087ff\">Conv2D</span>)                │ (<span style=\"color: #00d7ff; text-decoration-color: #00d7ff\">None</span>, <span style=\"color: #00af00; text-decoration-color: #00af00\">16</span>, <span style=\"color: #00af00; text-decoration-color: #00af00\">16</span>, <span style=\"color: #00af00; text-decoration-color: #00af00\">512</span>)         │       <span style=\"color: #00af00; text-decoration-color: #00af00\">2,359,808</span> │\n",
       "├──────────────────────────────────────┼─────────────────────────────┼─────────────────┤\n",
       "│ block4_conv3 (<span style=\"color: #0087ff; text-decoration-color: #0087ff\">Conv2D</span>)                │ (<span style=\"color: #00d7ff; text-decoration-color: #00d7ff\">None</span>, <span style=\"color: #00af00; text-decoration-color: #00af00\">16</span>, <span style=\"color: #00af00; text-decoration-color: #00af00\">16</span>, <span style=\"color: #00af00; text-decoration-color: #00af00\">512</span>)         │       <span style=\"color: #00af00; text-decoration-color: #00af00\">2,359,808</span> │\n",
       "├──────────────────────────────────────┼─────────────────────────────┼─────────────────┤\n",
       "│ block4_conv4 (<span style=\"color: #0087ff; text-decoration-color: #0087ff\">Conv2D</span>)                │ (<span style=\"color: #00d7ff; text-decoration-color: #00d7ff\">None</span>, <span style=\"color: #00af00; text-decoration-color: #00af00\">16</span>, <span style=\"color: #00af00; text-decoration-color: #00af00\">16</span>, <span style=\"color: #00af00; text-decoration-color: #00af00\">512</span>)         │       <span style=\"color: #00af00; text-decoration-color: #00af00\">2,359,808</span> │\n",
       "├──────────────────────────────────────┼─────────────────────────────┼─────────────────┤\n",
       "│ block4_pool (<span style=\"color: #0087ff; text-decoration-color: #0087ff\">MaxPooling2D</span>)           │ (<span style=\"color: #00d7ff; text-decoration-color: #00d7ff\">None</span>, <span style=\"color: #00af00; text-decoration-color: #00af00\">8</span>, <span style=\"color: #00af00; text-decoration-color: #00af00\">8</span>, <span style=\"color: #00af00; text-decoration-color: #00af00\">512</span>)           │               <span style=\"color: #00af00; text-decoration-color: #00af00\">0</span> │\n",
       "├──────────────────────────────────────┼─────────────────────────────┼─────────────────┤\n",
       "│ block5_conv1 (<span style=\"color: #0087ff; text-decoration-color: #0087ff\">Conv2D</span>)                │ (<span style=\"color: #00d7ff; text-decoration-color: #00d7ff\">None</span>, <span style=\"color: #00af00; text-decoration-color: #00af00\">8</span>, <span style=\"color: #00af00; text-decoration-color: #00af00\">8</span>, <span style=\"color: #00af00; text-decoration-color: #00af00\">512</span>)           │       <span style=\"color: #00af00; text-decoration-color: #00af00\">2,359,808</span> │\n",
       "├──────────────────────────────────────┼─────────────────────────────┼─────────────────┤\n",
       "│ block5_conv2 (<span style=\"color: #0087ff; text-decoration-color: #0087ff\">Conv2D</span>)                │ (<span style=\"color: #00d7ff; text-decoration-color: #00d7ff\">None</span>, <span style=\"color: #00af00; text-decoration-color: #00af00\">8</span>, <span style=\"color: #00af00; text-decoration-color: #00af00\">8</span>, <span style=\"color: #00af00; text-decoration-color: #00af00\">512</span>)           │       <span style=\"color: #00af00; text-decoration-color: #00af00\">2,359,808</span> │\n",
       "├──────────────────────────────────────┼─────────────────────────────┼─────────────────┤\n",
       "│ block5_conv3 (<span style=\"color: #0087ff; text-decoration-color: #0087ff\">Conv2D</span>)                │ (<span style=\"color: #00d7ff; text-decoration-color: #00d7ff\">None</span>, <span style=\"color: #00af00; text-decoration-color: #00af00\">8</span>, <span style=\"color: #00af00; text-decoration-color: #00af00\">8</span>, <span style=\"color: #00af00; text-decoration-color: #00af00\">512</span>)           │       <span style=\"color: #00af00; text-decoration-color: #00af00\">2,359,808</span> │\n",
       "├──────────────────────────────────────┼─────────────────────────────┼─────────────────┤\n",
       "│ block5_conv4 (<span style=\"color: #0087ff; text-decoration-color: #0087ff\">Conv2D</span>)                │ (<span style=\"color: #00d7ff; text-decoration-color: #00d7ff\">None</span>, <span style=\"color: #00af00; text-decoration-color: #00af00\">8</span>, <span style=\"color: #00af00; text-decoration-color: #00af00\">8</span>, <span style=\"color: #00af00; text-decoration-color: #00af00\">512</span>)           │       <span style=\"color: #00af00; text-decoration-color: #00af00\">2,359,808</span> │\n",
       "├──────────────────────────────────────┼─────────────────────────────┼─────────────────┤\n",
       "│ block5_pool (<span style=\"color: #0087ff; text-decoration-color: #0087ff\">MaxPooling2D</span>)           │ (<span style=\"color: #00d7ff; text-decoration-color: #00d7ff\">None</span>, <span style=\"color: #00af00; text-decoration-color: #00af00\">4</span>, <span style=\"color: #00af00; text-decoration-color: #00af00\">4</span>, <span style=\"color: #00af00; text-decoration-color: #00af00\">512</span>)           │               <span style=\"color: #00af00; text-decoration-color: #00af00\">0</span> │\n",
       "└──────────────────────────────────────┴─────────────────────────────┴─────────────────┘\n",
       "</pre>\n"
      ],
      "text/plain": [
       "┏━━━━━━━━━━━━━━━━━━━━━━━━━━━━━━━━━━━━━━┳━━━━━━━━━━━━━━━━━━━━━━━━━━━━━┳━━━━━━━━━━━━━━━━━┓\n",
       "┃\u001b[1m \u001b[0m\u001b[1mLayer (type)                        \u001b[0m\u001b[1m \u001b[0m┃\u001b[1m \u001b[0m\u001b[1mOutput Shape               \u001b[0m\u001b[1m \u001b[0m┃\u001b[1m \u001b[0m\u001b[1m        Param #\u001b[0m\u001b[1m \u001b[0m┃\n",
       "┡━━━━━━━━━━━━━━━━━━━━━━━━━━━━━━━━━━━━━━╇━━━━━━━━━━━━━━━━━━━━━━━━━━━━━╇━━━━━━━━━━━━━━━━━┩\n",
       "│ input_layer (\u001b[38;5;33mInputLayer\u001b[0m)             │ (\u001b[38;5;45mNone\u001b[0m, \u001b[38;5;34m128\u001b[0m, \u001b[38;5;34m128\u001b[0m, \u001b[38;5;34m3\u001b[0m)         │               \u001b[38;5;34m0\u001b[0m │\n",
       "├──────────────────────────────────────┼─────────────────────────────┼─────────────────┤\n",
       "│ block1_conv1 (\u001b[38;5;33mConv2D\u001b[0m)                │ (\u001b[38;5;45mNone\u001b[0m, \u001b[38;5;34m128\u001b[0m, \u001b[38;5;34m128\u001b[0m, \u001b[38;5;34m64\u001b[0m)        │           \u001b[38;5;34m1,792\u001b[0m │\n",
       "├──────────────────────────────────────┼─────────────────────────────┼─────────────────┤\n",
       "│ block1_conv2 (\u001b[38;5;33mConv2D\u001b[0m)                │ (\u001b[38;5;45mNone\u001b[0m, \u001b[38;5;34m128\u001b[0m, \u001b[38;5;34m128\u001b[0m, \u001b[38;5;34m64\u001b[0m)        │          \u001b[38;5;34m36,928\u001b[0m │\n",
       "├──────────────────────────────────────┼─────────────────────────────┼─────────────────┤\n",
       "│ block1_pool (\u001b[38;5;33mMaxPooling2D\u001b[0m)           │ (\u001b[38;5;45mNone\u001b[0m, \u001b[38;5;34m64\u001b[0m, \u001b[38;5;34m64\u001b[0m, \u001b[38;5;34m64\u001b[0m)          │               \u001b[38;5;34m0\u001b[0m │\n",
       "├──────────────────────────────────────┼─────────────────────────────┼─────────────────┤\n",
       "│ block2_conv1 (\u001b[38;5;33mConv2D\u001b[0m)                │ (\u001b[38;5;45mNone\u001b[0m, \u001b[38;5;34m64\u001b[0m, \u001b[38;5;34m64\u001b[0m, \u001b[38;5;34m128\u001b[0m)         │          \u001b[38;5;34m73,856\u001b[0m │\n",
       "├──────────────────────────────────────┼─────────────────────────────┼─────────────────┤\n",
       "│ block2_conv2 (\u001b[38;5;33mConv2D\u001b[0m)                │ (\u001b[38;5;45mNone\u001b[0m, \u001b[38;5;34m64\u001b[0m, \u001b[38;5;34m64\u001b[0m, \u001b[38;5;34m128\u001b[0m)         │         \u001b[38;5;34m147,584\u001b[0m │\n",
       "├──────────────────────────────────────┼─────────────────────────────┼─────────────────┤\n",
       "│ block2_pool (\u001b[38;5;33mMaxPooling2D\u001b[0m)           │ (\u001b[38;5;45mNone\u001b[0m, \u001b[38;5;34m32\u001b[0m, \u001b[38;5;34m32\u001b[0m, \u001b[38;5;34m128\u001b[0m)         │               \u001b[38;5;34m0\u001b[0m │\n",
       "├──────────────────────────────────────┼─────────────────────────────┼─────────────────┤\n",
       "│ block3_conv1 (\u001b[38;5;33mConv2D\u001b[0m)                │ (\u001b[38;5;45mNone\u001b[0m, \u001b[38;5;34m32\u001b[0m, \u001b[38;5;34m32\u001b[0m, \u001b[38;5;34m256\u001b[0m)         │         \u001b[38;5;34m295,168\u001b[0m │\n",
       "├──────────────────────────────────────┼─────────────────────────────┼─────────────────┤\n",
       "│ block3_conv2 (\u001b[38;5;33mConv2D\u001b[0m)                │ (\u001b[38;5;45mNone\u001b[0m, \u001b[38;5;34m32\u001b[0m, \u001b[38;5;34m32\u001b[0m, \u001b[38;5;34m256\u001b[0m)         │         \u001b[38;5;34m590,080\u001b[0m │\n",
       "├──────────────────────────────────────┼─────────────────────────────┼─────────────────┤\n",
       "│ block3_conv3 (\u001b[38;5;33mConv2D\u001b[0m)                │ (\u001b[38;5;45mNone\u001b[0m, \u001b[38;5;34m32\u001b[0m, \u001b[38;5;34m32\u001b[0m, \u001b[38;5;34m256\u001b[0m)         │         \u001b[38;5;34m590,080\u001b[0m │\n",
       "├──────────────────────────────────────┼─────────────────────────────┼─────────────────┤\n",
       "│ block3_conv4 (\u001b[38;5;33mConv2D\u001b[0m)                │ (\u001b[38;5;45mNone\u001b[0m, \u001b[38;5;34m32\u001b[0m, \u001b[38;5;34m32\u001b[0m, \u001b[38;5;34m256\u001b[0m)         │         \u001b[38;5;34m590,080\u001b[0m │\n",
       "├──────────────────────────────────────┼─────────────────────────────┼─────────────────┤\n",
       "│ block3_pool (\u001b[38;5;33mMaxPooling2D\u001b[0m)           │ (\u001b[38;5;45mNone\u001b[0m, \u001b[38;5;34m16\u001b[0m, \u001b[38;5;34m16\u001b[0m, \u001b[38;5;34m256\u001b[0m)         │               \u001b[38;5;34m0\u001b[0m │\n",
       "├──────────────────────────────────────┼─────────────────────────────┼─────────────────┤\n",
       "│ block4_conv1 (\u001b[38;5;33mConv2D\u001b[0m)                │ (\u001b[38;5;45mNone\u001b[0m, \u001b[38;5;34m16\u001b[0m, \u001b[38;5;34m16\u001b[0m, \u001b[38;5;34m512\u001b[0m)         │       \u001b[38;5;34m1,180,160\u001b[0m │\n",
       "├──────────────────────────────────────┼─────────────────────────────┼─────────────────┤\n",
       "│ block4_conv2 (\u001b[38;5;33mConv2D\u001b[0m)                │ (\u001b[38;5;45mNone\u001b[0m, \u001b[38;5;34m16\u001b[0m, \u001b[38;5;34m16\u001b[0m, \u001b[38;5;34m512\u001b[0m)         │       \u001b[38;5;34m2,359,808\u001b[0m │\n",
       "├──────────────────────────────────────┼─────────────────────────────┼─────────────────┤\n",
       "│ block4_conv3 (\u001b[38;5;33mConv2D\u001b[0m)                │ (\u001b[38;5;45mNone\u001b[0m, \u001b[38;5;34m16\u001b[0m, \u001b[38;5;34m16\u001b[0m, \u001b[38;5;34m512\u001b[0m)         │       \u001b[38;5;34m2,359,808\u001b[0m │\n",
       "├──────────────────────────────────────┼─────────────────────────────┼─────────────────┤\n",
       "│ block4_conv4 (\u001b[38;5;33mConv2D\u001b[0m)                │ (\u001b[38;5;45mNone\u001b[0m, \u001b[38;5;34m16\u001b[0m, \u001b[38;5;34m16\u001b[0m, \u001b[38;5;34m512\u001b[0m)         │       \u001b[38;5;34m2,359,808\u001b[0m │\n",
       "├──────────────────────────────────────┼─────────────────────────────┼─────────────────┤\n",
       "│ block4_pool (\u001b[38;5;33mMaxPooling2D\u001b[0m)           │ (\u001b[38;5;45mNone\u001b[0m, \u001b[38;5;34m8\u001b[0m, \u001b[38;5;34m8\u001b[0m, \u001b[38;5;34m512\u001b[0m)           │               \u001b[38;5;34m0\u001b[0m │\n",
       "├──────────────────────────────────────┼─────────────────────────────┼─────────────────┤\n",
       "│ block5_conv1 (\u001b[38;5;33mConv2D\u001b[0m)                │ (\u001b[38;5;45mNone\u001b[0m, \u001b[38;5;34m8\u001b[0m, \u001b[38;5;34m8\u001b[0m, \u001b[38;5;34m512\u001b[0m)           │       \u001b[38;5;34m2,359,808\u001b[0m │\n",
       "├──────────────────────────────────────┼─────────────────────────────┼─────────────────┤\n",
       "│ block5_conv2 (\u001b[38;5;33mConv2D\u001b[0m)                │ (\u001b[38;5;45mNone\u001b[0m, \u001b[38;5;34m8\u001b[0m, \u001b[38;5;34m8\u001b[0m, \u001b[38;5;34m512\u001b[0m)           │       \u001b[38;5;34m2,359,808\u001b[0m │\n",
       "├──────────────────────────────────────┼─────────────────────────────┼─────────────────┤\n",
       "│ block5_conv3 (\u001b[38;5;33mConv2D\u001b[0m)                │ (\u001b[38;5;45mNone\u001b[0m, \u001b[38;5;34m8\u001b[0m, \u001b[38;5;34m8\u001b[0m, \u001b[38;5;34m512\u001b[0m)           │       \u001b[38;5;34m2,359,808\u001b[0m │\n",
       "├──────────────────────────────────────┼─────────────────────────────┼─────────────────┤\n",
       "│ block5_conv4 (\u001b[38;5;33mConv2D\u001b[0m)                │ (\u001b[38;5;45mNone\u001b[0m, \u001b[38;5;34m8\u001b[0m, \u001b[38;5;34m8\u001b[0m, \u001b[38;5;34m512\u001b[0m)           │       \u001b[38;5;34m2,359,808\u001b[0m │\n",
       "├──────────────────────────────────────┼─────────────────────────────┼─────────────────┤\n",
       "│ block5_pool (\u001b[38;5;33mMaxPooling2D\u001b[0m)           │ (\u001b[38;5;45mNone\u001b[0m, \u001b[38;5;34m4\u001b[0m, \u001b[38;5;34m4\u001b[0m, \u001b[38;5;34m512\u001b[0m)           │               \u001b[38;5;34m0\u001b[0m │\n",
       "└──────────────────────────────────────┴─────────────────────────────┴─────────────────┘\n"
      ]
     },
     "metadata": {},
     "output_type": "display_data"
    },
    {
     "data": {
      "text/html": [
       "<pre style=\"white-space:pre;overflow-x:auto;line-height:normal;font-family:Menlo,'DejaVu Sans Mono',consolas,'Courier New',monospace\"><span style=\"font-weight: bold\"> Total params: </span><span style=\"color: #00af00; text-decoration-color: #00af00\">20,024,384</span> (76.39 MB)\n",
       "</pre>\n"
      ],
      "text/plain": [
       "\u001b[1m Total params: \u001b[0m\u001b[38;5;34m20,024,384\u001b[0m (76.39 MB)\n"
      ]
     },
     "metadata": {},
     "output_type": "display_data"
    },
    {
     "data": {
      "text/html": [
       "<pre style=\"white-space:pre;overflow-x:auto;line-height:normal;font-family:Menlo,'DejaVu Sans Mono',consolas,'Courier New',monospace\"><span style=\"font-weight: bold\"> Trainable params: </span><span style=\"color: #00af00; text-decoration-color: #00af00\">0</span> (0.00 B)\n",
       "</pre>\n"
      ],
      "text/plain": [
       "\u001b[1m Trainable params: \u001b[0m\u001b[38;5;34m0\u001b[0m (0.00 B)\n"
      ]
     },
     "metadata": {},
     "output_type": "display_data"
    },
    {
     "data": {
      "text/html": [
       "<pre style=\"white-space:pre;overflow-x:auto;line-height:normal;font-family:Menlo,'DejaVu Sans Mono',consolas,'Courier New',monospace\"><span style=\"font-weight: bold\"> Non-trainable params: </span><span style=\"color: #00af00; text-decoration-color: #00af00\">20,024,384</span> (76.39 MB)\n",
       "</pre>\n"
      ],
      "text/plain": [
       "\u001b[1m Non-trainable params: \u001b[0m\u001b[38;5;34m20,024,384\u001b[0m (76.39 MB)\n"
      ]
     },
     "metadata": {},
     "output_type": "display_data"
    }
   ],
   "source": [
    "# загрузка vgg19\n",
    "\n",
    "IMG_SHAPE = (128, 128, 3)\n",
    "\n",
    "base_model = keras.applications.VGG19(input_shape=IMG_SHAPE,\n",
    "                                         include_top=False,\n",
    "                                         weights='imagenet')\n",
    "\n",
    "base_model.trainable = False #True\n",
    "base_model.summary()"
   ]
  },
  {
   "cell_type": "markdown",
   "id": "763314be-de8d-48a5-812c-29a64a920f61",
   "metadata": {},
   "source": [
    "# Проблемный блок"
   ]
  },
  {
   "cell_type": "code",
   "execution_count": 2,
   "id": "5efba530-37da-4e40-9f0d-d221555b5316",
   "metadata": {},
   "outputs": [],
   "source": [
    "# Добавляем в конец слои с выходным, содержащим подходящее число классов\n",
    "\n",
    "NUM_CLASSES = 9\n",
    "\n",
    "# model = keras.models.Sequential([ instead of model = keras.Sequential\n",
    "model = keras.models.Sequential([base_model,\n",
    "                            tf.keras.layers.GlobalAveragePooling2D(),\n",
    "                            tf.keras.layers.Dense(512, activation=\"relu\"),\n",
    "                            tf.keras.layers.Dropout(0.3),\n",
    "                            tf.keras.layers.Dense(NUM_CLASSES)])\n",
    "\n",
    "\n",
    "# from_logits как True считаем лосс основываясь на логитах, без функции активации в последнем слое\n",
    "\n",
    "\n",
    "model.compile(optimizer=keras.optimizers.Adam(learning_rate=0.0001),\n",
    "              loss=keras.losses.CategoricalCrossentropy(from_logits=True),\n",
    "              metrics=['accuracy'])\n",
    "\n",
    "model.summary()"
   ]
  },
  {
   "cell_type": "code",
   "execution_count": 45,
   "id": "85d6a224-d376-4de8-b853-192d0a9bdbc0",
   "metadata": {},
   "outputs": [],
   "source": [
    "# Создаём checkpoint\n",
    "from tensorflow.keras.callbacks import ModelCheckpoint\n",
    "\n",
    "path = Path('model_emotion') # RENAME  TO model_emotion\n",
    "path.mkdir(exist_ok=True) # создаём директорию\n",
    "cpt_filename = 'checkpoint_best.h5'\n",
    "cpt_path = str(path / cpt_filename)\n",
    "\n",
    "checkpoint = tf.keras.callbacks.ModelCheckpoint(cpt_path, monitor='val_accuracy',\n",
    "                                               verbose = 1, save_best_only=True, mode='max')  # val_binary_accuracy"
   ]
  },
  {
   "cell_type": "code",
   "execution_count": 31,
   "id": "175b6d5b-1d9f-48cd-a877-b0c6e5189a2e",
   "metadata": {},
   "outputs": [
    {
     "name": "stdout",
     "output_type": "stream",
     "text": [
      "Requirement already satisfied: livelossplot in c:\\conda_new\\lib\\site-packages (0.5.5)\n",
      "Requirement already satisfied: matplotlib in c:\\conda_new\\lib\\site-packages (from livelossplot) (3.8.0)\n",
      "Requirement already satisfied: bokeh in c:\\conda_new\\lib\\site-packages (from livelossplot) (3.3.4)\n",
      "Requirement already satisfied: Jinja2>=2.9 in c:\\conda_new\\lib\\site-packages (from bokeh->livelossplot) (3.1.3)\n",
      "Requirement already satisfied: contourpy>=1 in c:\\conda_new\\lib\\site-packages (from bokeh->livelossplot) (1.2.0)\n",
      "Requirement already satisfied: numpy>=1.16 in c:\\conda_new\\lib\\site-packages (from bokeh->livelossplot) (1.26.4)\n",
      "Requirement already satisfied: packaging>=16.8 in c:\\conda_new\\lib\\site-packages (from bokeh->livelossplot) (23.2)\n",
      "Requirement already satisfied: pandas>=1.2 in c:\\conda_new\\lib\\site-packages (from bokeh->livelossplot) (2.1.4)\n",
      "Requirement already satisfied: pillow>=7.1.0 in c:\\conda_new\\lib\\site-packages (from bokeh->livelossplot) (10.2.0)\n",
      "Requirement already satisfied: PyYAML>=3.10 in c:\\conda_new\\lib\\site-packages (from bokeh->livelossplot) (6.0.1)\n",
      "Requirement already satisfied: tornado>=5.1 in c:\\conda_new\\lib\\site-packages (from bokeh->livelossplot) (6.3.3)\n",
      "Requirement already satisfied: xyzservices>=2021.09.1 in c:\\conda_new\\lib\\site-packages (from bokeh->livelossplot) (2022.9.0)\n",
      "Requirement already satisfied: cycler>=0.10 in c:\\conda_new\\lib\\site-packages (from matplotlib->livelossplot) (0.11.0)\n",
      "Requirement already satisfied: fonttools>=4.22.0 in c:\\conda_new\\lib\\site-packages (from matplotlib->livelossplot) (4.25.0)\n",
      "Requirement already satisfied: kiwisolver>=1.0.1 in c:\\conda_new\\lib\\site-packages (from matplotlib->livelossplot) (1.4.4)\n",
      "Requirement already satisfied: pyparsing>=2.3.1 in c:\\conda_new\\lib\\site-packages (from matplotlib->livelossplot) (3.0.9)\n",
      "Requirement already satisfied: python-dateutil>=2.7 in c:\\conda_new\\lib\\site-packages (from matplotlib->livelossplot) (2.8.2)\n",
      "Requirement already satisfied: MarkupSafe>=2.0 in c:\\conda_new\\lib\\site-packages (from Jinja2>=2.9->bokeh->livelossplot) (2.1.3)\n",
      "Requirement already satisfied: pytz>=2020.1 in c:\\conda_new\\lib\\site-packages (from pandas>=1.2->bokeh->livelossplot) (2023.3.post1)\n",
      "Requirement already satisfied: tzdata>=2022.1 in c:\\conda_new\\lib\\site-packages (from pandas>=1.2->bokeh->livelossplot) (2023.3)\n",
      "Requirement already satisfied: six>=1.5 in c:\\conda_new\\lib\\site-packages (from python-dateutil>=2.7->matplotlib->livelossplot) (1.16.0)\n"
     ]
    }
   ],
   "source": [
    "# Вспрмогательная библиотека для отрисовки графиков\n",
    "!pip install livelossplot\n",
    "from livelossplot.tf_keras import PlotLossesCallback"
   ]
  },
  {
   "cell_type": "code",
   "execution_count": 46,
   "id": "d86ada68-e238-4c2c-8cb5-eadf2662127b",
   "metadata": {},
   "outputs": [],
   "source": [
    "# Загрузка необходимых модулей\n",
    "\n",
    "from keras_vggface import utils\n",
    "from tensorflow.keras.preprocessing import image\n",
    "\n",
    "#import tensorflow\n",
    "from keras.utils.data_utils import get_file\n",
    "\n",
    "from tensorflow.python.keras.utils import layer_utils\n",
    "from tensorflow.python.keras.utils.data_utils import get_file"
   ]
  },
  {
   "cell_type": "markdown",
   "id": "9ed20c71-5321-462a-8ebc-996115fe6da5",
   "metadata": {},
   "source": [
    "#### Ячейка ниже для базовой модели, в которой все сло VGG19 не обучаемые"
   ]
  },
  {
   "cell_type": "code",
   "execution_count": null,
   "id": "d067f4cf-8e82-494a-a5ee-70bf05fb57cd",
   "metadata": {},
   "outputs": [],
   "source": [
    "# Обучение модели предсказания эмоций\n",
    "NUM_EPOCHS = 10  # DON\"T FORGET TO CHANGE NUMBER OF EPOCHS TO 10 AND MORE FOR MORE ACCURACY\n",
    "BATCH_SIZE = 32\n",
    "\n",
    "history = model.fit(train_data_gen, epochs = NUM_EPOCHS, validation_data=val_data_gen,\n",
    "               callbacks=[PlotLossesCallback(), checkpoint], steps_per_epoch=25)"
   ]
  },
  {
   "cell_type": "markdown",
   "id": "f51b8a33-e4f5-4453-8558-967bc90f0140",
   "metadata": {},
   "source": [
    "### Здесь проводим эксперименты с количеством обучаемых слоёв и количеством эпох"
   ]
  },
  {
   "cell_type": "code",
   "execution_count": 47,
   "id": "60425a4b-fed0-47da-9327-62e9105735f1",
   "metadata": {},
   "outputs": [
    {
     "name": "stdout",
     "output_type": "stream",
     "text": [
      "Количество слоев в базовой модели:  22\n"
     ]
    }
   ],
   "source": [
    "# Возвращаем базовой модели возможность обучаться\n",
    "base_model.trainable = True\n",
    "print(\"Количество слоев в базовой модели: \", len(base_model.layers))"
   ]
  },
  {
   "cell_type": "code",
   "execution_count": 48,
   "id": "b78adff6-bd15-493b-9afe-289ad19e9fc8",
   "metadata": {},
   "outputs": [],
   "source": [
    "# Определим количество слоёв, которые будут обучаться, остальные заморозим\n",
    "\n",
    "fine_tune_at = 20\n",
    "# все слои до fine_tune_at заморозим и обучать будем оставшиеся (Количество слоев в базовой модели минус fine_tune_at)\n",
    "for layer in base_model.layers[:fine_tune_at]:\n",
    "    layer.trainable =  False"
   ]
  },
  {
   "cell_type": "code",
   "execution_count": 49,
   "id": "7423511e-aa1f-46a9-8b28-fd6fda94363c",
   "metadata": {},
   "outputs": [],
   "source": [
    "# Компиляция модели\n",
    "\n",
    "model.compile(optimizer=tf.keras.optimizers.Adam(learning_rate=0.0001),\n",
    "              loss=tf.keras.losses.CategoricalCrossentropy(from_logits=True),\n",
    "              metrics=['accuracy'])"
   ]
  },
  {
   "cell_type": "code",
   "execution_count": 50,
   "id": "3c4b6a83-76b7-44af-96c4-12b9108d8ab5",
   "metadata": {},
   "outputs": [
    {
     "name": "stdout",
     "output_type": "stream",
     "text": [
      "Model: \"sequential_1\"\n",
      "_________________________________________________________________\n",
      " Layer (type)                Output Shape              Param #   \n",
      "=================================================================\n",
      " vgg19 (Functional)          (None, 4, 4, 512)         20024384  \n",
      "                                                                 \n",
      " global_average_pooling2d_1   (None, 512)              0         \n",
      " (GlobalAveragePooling2D)                                        \n",
      "                                                                 \n",
      " dense_2 (Dense)             (None, 512)               262656    \n",
      "                                                                 \n",
      " dropout_1 (Dropout)         (None, 512)               0         \n",
      "                                                                 \n",
      " dense_3 (Dense)             (None, 9)                 4617      \n",
      "                                                                 \n",
      "=================================================================\n",
      "Total params: 20,291,657\n",
      "Trainable params: 2,627,081\n",
      "Non-trainable params: 17,664,576\n",
      "_________________________________________________________________\n"
     ]
    }
   ],
   "source": [
    "model.summary()"
   ]
  },
  {
   "cell_type": "code",
   "execution_count": 51,
   "id": "0e1d0ce7-2ba9-4948-9afa-0df7b98e9a18",
   "metadata": {},
   "outputs": [],
   "source": [
    "# Указываем количество эпох и размер батча для обучение модели предсказания эмоций\n",
    "NUM_EPOCHS = 10  # DON\"T FORGET TO CHANGE NUMBER OF EPOCHS TO 10 AND MORE FOR MORE ACCURACY\n",
    "BATCH_SIZE = 32"
   ]
  },
  {
   "cell_type": "code",
   "execution_count": 52,
   "id": "06770223-411d-4c7e-a926-8d6dd0506cc7",
   "metadata": {},
   "outputs": [
    {
     "data": {
      "image/png": "[encoded data removed]",
      "text/plain": [
       "<Figure size 1200x800 with 2 Axes>"
      ]
     },
     "metadata": {},
     "output_type": "display_data"
    },
    {
     "name": "stdout",
     "output_type": "stream",
     "text": [
      "accuracy\n",
      "\ttraining         \t (min:    0.135, max:    0.257, cur:    0.257)\n",
      "\tvalidation       \t (min:    0.151, max:    0.269, cur:    0.269)\n",
      "Loss\n",
      "\ttraining         \t (min:    2.019, max:    4.405, cur:    2.019)\n",
      "\tvalidation       \t (min:    1.977, max:    2.529, cur:    1.977)\n",
      "\n",
      "Epoch 10: val_accuracy improved from 0.26591 to 0.26851, saving model to model_emotion\\checkpoint_best.h5\n",
      "25/25 [==============================] - 911s 37s/step - loss: 2.0191 - accuracy: 0.2566 - val_loss: 1.9769 - val_accuracy: 0.2685\n"
     ]
    }
   ],
   "source": [
    "# Обучаем модель с новыми параметрами -  с fine_tune_at(количество) размороженных слоя\n",
    "\n",
    "history = model.fit(train_data_gen, epochs = NUM_EPOCHS, validation_data=val_data_gen,\n",
    "               callbacks=[PlotLossesCallback(), checkpoint], steps_per_epoch=25)"
   ]
  },
  {
   "cell_type": "code",
   "execution_count": null,
   "id": "10a1bb25-5a75-463a-a0f1-ebdcbd4306a6",
   "metadata": {},
   "outputs": [],
   "source": [
    "from tensorflow.keras.models import load_model # load_model - функция загрузки моделей"
   ]
  },
  {
   "cell_type": "code",
   "execution_count": null,
   "id": "17638d0c-17fc-4533-a731-bc90ff03d894",
   "metadata": {},
   "outputs": [],
   "source": [
    "model_emotion = load_model('model_emotion/checkpoint_best.h5')\n",
    "loss, acc = model_emotion.evaluate(val_data_gen)\n",
    "if acc < 0.27:\n",
    "    print(\"Please, try harder!\")\n",
    "else:\n",
    "    if acc >= 0.29:\n",
    "        print(\"Well done!\")\n",
    "    else:\n",
    "        print(\"Very good! Can you improve accuracy?\")"
   ]
  },
  {
   "cell_type": "code",
   "execution_count": null,
   "id": "a384c033-8207-42aa-a16e-b60d56608e0d",
   "metadata": {},
   "outputs": [],
   "source": [
    "def deprocess_image(vggface_image):\n",
    "    \"\"\"\n",
    "    vggface_image -- (H, W, 3) картинка после препроцессинга.\n",
    "    содержит отрицательные значения и некорректно отображается matplotlib\n",
    "\n",
    "    return: корректно отображаеая картинка типа np.uint8(!!).\n",
    "\n",
    "    ! работайте с копией картинки (image = np.copy(vggface_image)) !\n",
    "    \"\"\"\n",
    "\n",
    "    image = np.copy(vggface_image) # copy image\n",
    "    # image = image[:, ::-1, ...]  # BGR to RGB\n",
    "\n",
    "    #data_format == 'channels_last':\n",
    "\n",
    "    image[..., 0] += 91.4953\n",
    "    image[..., 1] += 103.8827\n",
    "    image[..., 2] += 131.0912\n",
    "    image = image[..., ::-1] # разворот BGR to RGB делается таким образом\n",
    "    image = image.astype(np.uint8)\n",
    "\n",
    "\n",
    "    return image"
   ]
  },
  {
   "cell_type": "code",
   "execution_count": null,
   "id": "1815fc94-d1ee-45e8-92d6-02a289e1b3fe",
   "metadata": {},
   "outputs": [],
   "source": [
    "#@title (вспомогательный код для отрисовки результата)\n",
    "def show_faces(images, real_emotion=None, predicted_emotion=None):\n",
    "    plt.figure(figsize=(10,10))\n",
    "    label = {\"emotion\": [predicted_emotion, real_emotion]}\n",
    "    for i in range(16):\n",
    "        plt.subplot(4,4, i+1)\n",
    "        plt.xticks([])\n",
    "        plt.yticks([])\n",
    "        plt.grid(False)\n",
    "        plt.imshow(deprocess_image(images[i]))\n",
    "        real_str = \"Real:\"\n",
    "        pred_str = \"Pred:\"\n",
    "        correct = True\n",
    "        for name, (predicted, real) in label.items():\n",
    "            #print('name-> ', name, 'pred-> ', predicted, 'real-> ', real)\n",
    "            if predicted is None:\n",
    "                continue\n",
    "\n",
    "            if name == \"emotion\":\n",
    "                real_emotion = np.argmax(real[i])\n",
    "                predicted_emotion = np.argmax(predicted[i])\n",
    "                real_str += f\"{emotion_mapping[real_emotion]}, \"\n",
    "                pred_str += f\"{emotion_mapping[predicted_emotion]}, \"\n",
    "                if real_emotion != predicted_emotion:\n",
    "                    correct = False\n",
    "\n",
    "        title_obj = plt.title(f\"{real_str}\\n{pred_str}\")\n",
    "\n",
    "        plt.subplots_adjust(wspace=0.4)\n",
    "        if not correct:\n",
    "            plt.setp(title_obj, color='r')\n",
    "\n",
    "        print(real_str, pred_str, image)\n",
    "\n",
    "    return real_str, pred_str"
   ]
  },
  {
   "cell_type": "code",
   "execution_count": null,
   "id": "0a078272-ca79-4716-9e76-89d354859961",
   "metadata": {},
   "outputs": [],
   "source": [
    "# Инференс модели и распечатка изображений с предсказанныи и реальным вариантом эмоции\n",
    "sample_validation_images, sample_validation_labels = next(val_data_gen)\n",
    "predicted = model_emotion.predict(sample_validation_images)\n",
    "show_faces(sample_validation_images, real_emotion=sample_validation_labels, predicted_emotion=predicted)"
   ]
  },
  {
   "cell_type": "code",
   "execution_count": null,
   "id": "0e4c43e2-c4f4-4c57-8bd3-823c738e2363",
   "metadata": {},
   "outputs": [],
   "source": [
    "# Сохраняем обученную модель в виде `.keras` zip archive.\n",
    "model.save('my_model.keras')"
   ]
  },
  {
   "cell_type": "markdown",
   "id": "0cfe7c9a-3ef0-4077-b21b-185600164ca1",
   "metadata": {},
   "source": [
    "#### Вторая часть\r",
    "Для тренировки модели мы использовали \"train\"  датасет.\n",
    "Теперь мы загружаем файлы из фолдера с тестовыми 5000 изображениям). Затем создаём csv файл для подачи в Kaggleанным."
   ]
  },
  {
   "cell_type": "markdown",
   "id": "26d41ea8-488c-4cbb-8031-c1d1e1be4cde",
   "metadata": {},
   "source": [
    "### Эту часть делаем в Google Colab\n",
    "\n",
    "1. Определяем путь к загруженной модели.\n",
    "2. Загружаем модель из GoogleDrive\n",
    "3. Определяем путь к тестовым данным."
   ]
  },
  {
   "cell_type": "code",
   "execution_count": 1,
   "id": "4805a23a-a312-4d7b-aaff-39ae5c186332",
   "metadata": {},
   "outputs": [],
   "source": [
    "# Загрузка модулей\n",
    "\n",
    "import tensorflow as tf\n",
    "#tf.enable_eager_execution()\n",
    "import numpy as np\n",
    "import pandas as pd\n",
    "import matplotlib.pyplot as plt"
   ]
  },
  {
   "cell_type": "code",
   "execution_count": null,
   "id": "2777d369-3299-404b-a265-88d8a164e67b",
   "metadata": {},
   "outputs": [],
   "source": [
    "# Монтируем Google disk\n",
    "from google.colab import drive\n",
    "drive.mount('/content/drive')"
   ]
  },
  {
   "cell_type": "code",
   "execution_count": null,
   "id": "68009250-0195-4a9b-9a17-82174ab7ec5d",
   "metadata": {},
   "outputs": [],
   "source": [
    "# Загружаем библиотеку image\n",
    "from tensorflow.keras.preprocessing import image"
   ]
  },
  {
   "cell_type": "markdown",
   "id": "f2021b1a-e50c-4f08-8ff1-abf7c4afb7bc",
   "metadata": {},
   "source": [
    "## Keras version issue"
   ]
  },
  {
   "cell_type": "code",
   "execution_count": 109,
   "id": "271f7a6c-8983-4ba8-8954-aa2abce182bf",
   "metadata": {},
   "outputs": [
    {
     "data": {
      "text/plain": [
       "'3.4.1'"
      ]
     },
     "execution_count": 109,
     "metadata": {},
     "output_type": "execute_result"
    }
   ],
   "source": [
    "# Check up keras version\n",
    "import keras\n",
    "keras.__version__"
   ]
  },
  {
   "cell_type": "code",
   "execution_count": 110,
   "id": "8ee9f5c8-0bfa-4cdc-bd3b-f9fd6f7babae",
   "metadata": {},
   "outputs": [
    {
     "name": "stdout",
     "output_type": "stream",
     "text": [
      "Name: keras\n",
      "Version: 3.5.0\n",
      "Summary: Multi-backend Keras.\n",
      "Home-page: https://github.com/keras-team/keras\n",
      "Author: Keras team\n",
      "Author-email: keras-users@googlegroups.com\n",
      "License: Apache License 2.0\n",
      "Location: C:\\Conda_new\\Lib\\site-packages\n",
      "Requires: absl-py, h5py, ml-dtypes, namex, numpy, optree, packaging, rich\n",
      "Required-by: keras-vggface, tensorflow-intel\n",
      "Note: you may need to restart the kernel to use updated packages.\n"
     ]
    }
   ],
   "source": [
    "pip show keras"
   ]
  },
  {
   "cell_type": "code",
   "execution_count": 17,
   "id": "81ab114a-cd99-48bc-becd-aef7be0e4f30",
   "metadata": {},
   "outputs": [
    {
     "name": "stdout",
     "output_type": "stream",
     "text": [
      "Requirement already satisfied: pip in c:\\conda_new\\lib\\site-packages (24.2)\n"
     ]
    }
   ],
   "source": [
    "# Update pip\n",
    "!pip install --upgrade pip"
   ]
  },
  {
   "cell_type": "code",
   "execution_count": 111,
   "id": "908c4d59-afb1-453e-a4d0-66baec459882",
   "metadata": {},
   "outputs": [
    {
     "name": "stdout",
     "output_type": "stream",
     "text": [
      "Name: tensorflow\n",
      "Version: 2.17.0\n",
      "Summary: TensorFlow is an open source machine learning framework for everyone.\n",
      "Home-page: https://www.tensorflow.org/\n",
      "Author: Google Inc.\n",
      "Author-email: packages@tensorflow.org\n",
      "License: Apache 2.0\n",
      "Location: C:\\Conda_new\\Lib\\site-packages\n",
      "Requires: tensorflow-intel\n",
      "Required-by: \n"
     ]
    }
   ],
   "source": [
    "# update tensorflow\n",
    "!pip show tensorflow"
   ]
  },
  {
   "cell_type": "code",
   "execution_count": 87,
   "id": "c2946a64-1f24-4e3e-9ac2-f874ca493258",
   "metadata": {},
   "outputs": [
    {
     "name": "stdout",
     "output_type": "stream",
     "text": [
      "Requirement already satisfied: tensorflow in c:\\conda_new\\lib\\site-packages (2.14.0)\n",
      "Collecting tensorflow\n",
      "  Downloading tensorflow-2.17.0-cp311-cp311-win_amd64.whl.metadata (3.2 kB)\n",
      "Collecting tensorflow-intel==2.17.0 (from tensorflow)\n",
      "  Downloading tensorflow_intel-2.17.0-cp311-cp311-win_amd64.whl.metadata (5.0 kB)\n",
      "Requirement already satisfied: absl-py>=1.0.0 in c:\\conda_new\\lib\\site-packages (from tensorflow-intel==2.17.0->tensorflow) (2.0.0)\n",
      "Requirement already satisfied: astunparse>=1.6.0 in c:\\conda_new\\lib\\site-packages (from tensorflow-intel==2.17.0->tensorflow) (1.6.3)\n",
      "Collecting flatbuffers>=24.3.25 (from tensorflow-intel==2.17.0->tensorflow)\n",
      "  Downloading flatbuffers-24.3.25-py2.py3-none-any.whl.metadata (850 bytes)\n",
      "Requirement already satisfied: gast!=0.5.0,!=0.5.1,!=0.5.2,>=0.2.1 in c:\\conda_new\\lib\\site-packages (from tensorflow-intel==2.17.0->tensorflow) (0.5.4)\n",
      "Requirement already satisfied: google-pasta>=0.1.1 in c:\\conda_new\\lib\\site-packages (from tensorflow-intel==2.17.0->tensorflow) (0.2.0)\n",
      "Collecting h5py>=3.10.0 (from tensorflow-intel==2.17.0->tensorflow)\n",
      "  Downloading h5py-3.11.0-cp311-cp311-win_amd64.whl.metadata (2.5 kB)\n",
      "Requirement already satisfied: libclang>=13.0.0 in c:\\conda_new\\lib\\site-packages (from tensorflow-intel==2.17.0->tensorflow) (16.0.6)\n",
      "Collecting ml-dtypes<0.5.0,>=0.3.1 (from tensorflow-intel==2.17.0->tensorflow)\n",
      "  Downloading ml_dtypes-0.4.0-cp311-cp311-win_amd64.whl.metadata (20 kB)\n",
      "Requirement already satisfied: opt-einsum>=2.3.2 in c:\\conda_new\\lib\\site-packages (from tensorflow-intel==2.17.0->tensorflow) (3.3.0)\n",
      "Requirement already satisfied: packaging in c:\\conda_new\\lib\\site-packages (from tensorflow-intel==2.17.0->tensorflow) (23.2)\n",
      "Requirement already satisfied: protobuf!=4.21.0,!=4.21.1,!=4.21.2,!=4.21.3,!=4.21.4,!=4.21.5,<5.0.0dev,>=3.20.3 in c:\\conda_new\\lib\\site-packages (from tensorflow-intel==2.17.0->tensorflow) (3.20.3)\n",
      "Requirement already satisfied: requests<3,>=2.21.0 in c:\\conda_new\\lib\\site-packages (from tensorflow-intel==2.17.0->tensorflow) (2.31.0)\n",
      "Requirement already satisfied: setuptools in c:\\conda_new\\lib\\site-packages (from tensorflow-intel==2.17.0->tensorflow) (68.2.2)\n",
      "Requirement already satisfied: six>=1.12.0 in c:\\conda_new\\lib\\site-packages (from tensorflow-intel==2.17.0->tensorflow) (1.16.0)\n",
      "Requirement already satisfied: termcolor>=1.1.0 in c:\\conda_new\\lib\\site-packages (from tensorflow-intel==2.17.0->tensorflow) (2.3.0)\n",
      "Requirement already satisfied: typing-extensions>=3.6.6 in c:\\conda_new\\lib\\site-packages (from tensorflow-intel==2.17.0->tensorflow) (4.9.0)\n",
      "Requirement already satisfied: wrapt>=1.11.0 in c:\\conda_new\\lib\\site-packages (from tensorflow-intel==2.17.0->tensorflow) (1.14.1)\n",
      "Requirement already satisfied: grpcio<2.0,>=1.24.3 in c:\\conda_new\\lib\\site-packages (from tensorflow-intel==2.17.0->tensorflow) (1.58.0)\n",
      "Collecting tensorboard<2.18,>=2.17 (from tensorflow-intel==2.17.0->tensorflow)\n",
      "  Downloading tensorboard-2.17.1-py3-none-any.whl.metadata (1.6 kB)\n",
      "Requirement already satisfied: keras>=3.2.0 in c:\\conda_new\\lib\\site-packages (from tensorflow-intel==2.17.0->tensorflow) (3.4.1)\n",
      "Requirement already satisfied: tensorflow-io-gcs-filesystem>=0.23.1 in c:\\conda_new\\lib\\site-packages (from tensorflow-intel==2.17.0->tensorflow) (0.31.0)\n",
      "Requirement already satisfied: numpy<2.0.0,>=1.23.5 in c:\\conda_new\\lib\\site-packages (from tensorflow-intel==2.17.0->tensorflow) (1.26.4)\n",
      "Requirement already satisfied: wheel<1.0,>=0.23.0 in c:\\conda_new\\lib\\site-packages (from astunparse>=1.6.0->tensorflow-intel==2.17.0->tensorflow) (0.41.2)\n",
      "Requirement already satisfied: rich in c:\\conda_new\\lib\\site-packages (from keras>=3.2.0->tensorflow-intel==2.17.0->tensorflow) (13.3.5)\n",
      "Requirement already satisfied: namex in c:\\conda_new\\lib\\site-packages (from keras>=3.2.0->tensorflow-intel==2.17.0->tensorflow) (0.0.8)\n",
      "Requirement already satisfied: optree in c:\\conda_new\\lib\\site-packages (from keras>=3.2.0->tensorflow-intel==2.17.0->tensorflow) (0.12.1)\n",
      "Requirement already satisfied: charset-normalizer<4,>=2 in c:\\conda_new\\lib\\site-packages (from requests<3,>=2.21.0->tensorflow-intel==2.17.0->tensorflow) (2.0.4)\n",
      "Requirement already satisfied: idna<4,>=2.5 in c:\\conda_new\\lib\\site-packages (from requests<3,>=2.21.0->tensorflow-intel==2.17.0->tensorflow) (3.4)\n",
      "Requirement already satisfied: urllib3<3,>=1.21.1 in c:\\conda_new\\lib\\site-packages (from requests<3,>=2.21.0->tensorflow-intel==2.17.0->tensorflow) (2.0.7)\n",
      "Requirement already satisfied: certifi>=2017.4.17 in c:\\conda_new\\lib\\site-packages (from requests<3,>=2.21.0->tensorflow-intel==2.17.0->tensorflow) (2024.2.2)\n",
      "Requirement already satisfied: markdown>=2.6.8 in c:\\conda_new\\lib\\site-packages (from tensorboard<2.18,>=2.17->tensorflow-intel==2.17.0->tensorflow) (3.4.1)\n",
      "Requirement already satisfied: tensorboard-data-server<0.8.0,>=0.7.0 in c:\\conda_new\\lib\\site-packages (from tensorboard<2.18,>=2.17->tensorflow-intel==2.17.0->tensorflow) (0.7.1)\n",
      "Requirement already satisfied: werkzeug>=1.0.1 in c:\\conda_new\\lib\\site-packages (from tensorboard<2.18,>=2.17->tensorflow-intel==2.17.0->tensorflow) (2.2.3)\n",
      "Requirement already satisfied: MarkupSafe>=2.1.1 in c:\\conda_new\\lib\\site-packages (from werkzeug>=1.0.1->tensorboard<2.18,>=2.17->tensorflow-intel==2.17.0->tensorflow) (2.1.3)\n",
      "Requirement already satisfied: markdown-it-py<3.0.0,>=2.2.0 in c:\\conda_new\\lib\\site-packages (from rich->keras>=3.2.0->tensorflow-intel==2.17.0->tensorflow) (2.2.0)\n",
      "Requirement already satisfied: pygments<3.0.0,>=2.13.0 in c:\\conda_new\\lib\\site-packages (from rich->keras>=3.2.0->tensorflow-intel==2.17.0->tensorflow) (2.15.1)\n",
      "Requirement already satisfied: mdurl~=0.1 in c:\\conda_new\\lib\\site-packages (from markdown-it-py<3.0.0,>=2.2.0->rich->keras>=3.2.0->tensorflow-intel==2.17.0->tensorflow) (0.1.0)\n",
      "Downloading tensorflow-2.17.0-cp311-cp311-win_amd64.whl (2.0 kB)\n",
      "Downloading tensorflow_intel-2.17.0-cp311-cp311-win_amd64.whl (385.0 MB)\n",
      "   ---------------------------------------- 0.0/385.0 MB ? eta -:--:--\n",
      "   ---------------------------------------- 0.0/385.0 MB ? eta -:--:--\n",
      "   ---------------------------------------- 0.5/385.0 MB 1.9 MB/s eta 0:03:26\n",
      "   ---------------------------------------- 1.0/385.0 MB 2.6 MB/s eta 0:02:26\n",
      "   ---------------------------------------- 1.8/385.0 MB 2.7 MB/s eta 0:02:21\n",
      "   ---------------------------------------- 2.4/385.0 MB 2.9 MB/s eta 0:02:14\n",
      "   ---------------------------------------- 3.1/385.0 MB 2.9 MB/s eta 0:02:13\n",
      "   ---------------------------------------- 3.7/385.0 MB 2.9 MB/s eta 0:02:12\n",
      "   ---------------------------------------- 4.2/385.0 MB 2.9 MB/s eta 0:02:12\n",
      "    --------------------------------------- 5.0/385.0 MB 2.9 MB/s eta 0:02:10\n",
      "    --------------------------------------- 5.5/385.0 MB 2.9 MB/s eta 0:02:09\n",
      "    --------------------------------------- 6.0/385.0 MB 2.9 MB/s eta 0:02:10\n",
      "    --------------------------------------- 6.8/385.0 MB 2.9 MB/s eta 0:02:10\n",
      "    --------------------------------------- 7.3/385.0 MB 2.9 MB/s eta 0:02:11\n",
      "    --------------------------------------- 7.9/385.0 MB 2.9 MB/s eta 0:02:11\n",
      "    --------------------------------------- 8.7/385.0 MB 2.9 MB/s eta 0:02:09\n",
      "    --------------------------------------- 9.2/385.0 MB 2.9 MB/s eta 0:02:10\n",
      "   - -------------------------------------- 9.7/385.0 MB 2.9 MB/s eta 0:02:10\n",
      "   - -------------------------------------- 10.2/385.0 MB 2.9 MB/s eta 0:02:10\n",
      "   - -------------------------------------- 10.7/385.0 MB 2.9 MB/s eta 0:02:11\n",
      "   - -------------------------------------- 11.5/385.0 MB 2.9 MB/s eta 0:02:10\n",
      "   - -------------------------------------- 12.1/385.0 MB 2.9 MB/s eta 0:02:10\n",
      "   - -------------------------------------- 12.6/385.0 MB 2.9 MB/s eta 0:02:10\n",
      "   - -------------------------------------- 13.4/385.0 MB 2.9 MB/s eta 0:02:09\n",
      "   - -------------------------------------- 13.9/385.0 MB 2.9 MB/s eta 0:02:09\n",
      "   - -------------------------------------- 14.7/385.0 MB 2.9 MB/s eta 0:02:08\n",
      "   - -------------------------------------- 15.2/385.0 MB 2.9 MB/s eta 0:02:07\n",
      "   - -------------------------------------- 15.7/385.0 MB 2.9 MB/s eta 0:02:08\n",
      "   - -------------------------------------- 16.3/385.0 MB 2.9 MB/s eta 0:02:08\n",
      "   - -------------------------------------- 17.0/385.0 MB 2.9 MB/s eta 0:02:07\n",
      "   - -------------------------------------- 17.6/385.0 MB 2.9 MB/s eta 0:02:07\n",
      "   - -------------------------------------- 18.4/385.0 MB 2.9 MB/s eta 0:02:06\n",
      "   - -------------------------------------- 18.9/385.0 MB 2.9 MB/s eta 0:02:07\n",
      "   -- ------------------------------------- 19.7/385.0 MB 2.9 MB/s eta 0:02:05\n",
      "   -- ------------------------------------- 20.2/385.0 MB 2.9 MB/s eta 0:02:05\n",
      "   -- ------------------------------------- 21.0/385.0 MB 2.9 MB/s eta 0:02:05\n",
      "   -- ------------------------------------- 21.5/385.0 MB 2.9 MB/s eta 0:02:04\n",
      "   -- ------------------------------------- 22.3/385.0 MB 2.9 MB/s eta 0:02:04\n",
      "   -- ------------------------------------- 22.8/385.0 MB 2.9 MB/s eta 0:02:04\n",
      "   -- ------------------------------------- 23.3/385.0 MB 2.9 MB/s eta 0:02:05\n",
      "   -- ------------------------------------- 23.6/385.0 MB 2.9 MB/s eta 0:02:05\n",
      "   -- ------------------------------------- 24.4/385.0 MB 2.9 MB/s eta 0:02:05\n",
      "   -- ------------------------------------- 24.9/385.0 MB 2.9 MB/s eta 0:02:05\n",
      "   -- ------------------------------------- 25.4/385.0 MB 2.9 MB/s eta 0:02:06\n",
      "   -- ------------------------------------- 26.0/385.0 MB 2.9 MB/s eta 0:02:05\n",
      "   -- ------------------------------------- 26.5/385.0 MB 2.9 MB/s eta 0:02:05\n",
      "   -- ------------------------------------- 27.3/385.0 MB 2.9 MB/s eta 0:02:05\n",
      "   -- ------------------------------------- 27.8/385.0 MB 2.9 MB/s eta 0:02:04\n",
      "   -- ------------------------------------- 28.3/385.0 MB 2.9 MB/s eta 0:02:04\n",
      "   --- ------------------------------------ 29.1/385.0 MB 2.9 MB/s eta 0:02:04\n",
      "   --- ------------------------------------ 29.9/385.0 MB 2.9 MB/s eta 0:02:03\n",
      "   --- ------------------------------------ 30.4/385.0 MB 2.9 MB/s eta 0:02:03\n",
      "   --- ------------------------------------ 31.2/385.0 MB 2.9 MB/s eta 0:02:02\n",
      "   --- ------------------------------------ 31.7/385.0 MB 2.9 MB/s eta 0:02:02\n",
      "   --- ------------------------------------ 32.5/385.0 MB 2.9 MB/s eta 0:02:01\n",
      "   --- ------------------------------------ 33.0/385.0 MB 2.9 MB/s eta 0:02:02\n",
      "   --- ------------------------------------ 33.6/385.0 MB 2.9 MB/s eta 0:02:01\n",
      "   --- ------------------------------------ 34.1/385.0 MB 2.9 MB/s eta 0:02:01\n",
      "   --- ------------------------------------ 34.9/385.0 MB 2.9 MB/s eta 0:02:01\n",
      "   --- ------------------------------------ 35.4/385.0 MB 2.9 MB/s eta 0:02:01\n",
      "   --- ------------------------------------ 36.2/385.0 MB 2.9 MB/s eta 0:02:00\n",
      "   --- ------------------------------------ 36.7/385.0 MB 2.9 MB/s eta 0:02:00\n",
      "   --- ------------------------------------ 37.5/385.0 MB 2.9 MB/s eta 0:01:59\n",
      "   --- ------------------------------------ 38.3/385.0 MB 2.9 MB/s eta 0:01:59\n",
      "   ---- ----------------------------------- 38.8/385.0 MB 2.9 MB/s eta 0:01:58\n",
      "   ---- ----------------------------------- 39.6/385.0 MB 2.9 MB/s eta 0:01:58\n",
      "   ---- ----------------------------------- 40.1/385.0 MB 2.9 MB/s eta 0:01:58\n",
      "   ---- ----------------------------------- 40.6/385.0 MB 2.9 MB/s eta 0:01:58\n",
      "   ---- ----------------------------------- 41.2/385.0 MB 2.9 MB/s eta 0:01:58\n",
      "   ---- ----------------------------------- 41.7/385.0 MB 2.9 MB/s eta 0:01:58\n",
      "   ---- ----------------------------------- 42.2/385.0 MB 2.9 MB/s eta 0:01:58\n",
      "   ---- ----------------------------------- 43.0/385.0 MB 2.9 MB/s eta 0:01:57\n",
      "   ---- ----------------------------------- 43.5/385.0 MB 2.9 MB/s eta 0:01:57\n",
      "   ---- ----------------------------------- 44.3/385.0 MB 2.9 MB/s eta 0:01:57\n",
      "   ---- ----------------------------------- 44.8/385.0 MB 2.9 MB/s eta 0:01:56\n",
      "   ---- ----------------------------------- 45.6/385.0 MB 2.9 MB/s eta 0:01:56\n",
      "   ---- ----------------------------------- 46.1/385.0 MB 2.9 MB/s eta 0:01:56\n",
      "   ---- ----------------------------------- 46.9/385.0 MB 2.9 MB/s eta 0:01:55\n",
      "   ---- ----------------------------------- 47.4/385.0 MB 2.9 MB/s eta 0:01:55\n",
      "   ----- ---------------------------------- 48.2/385.0 MB 3.0 MB/s eta 0:01:55\n",
      "   ----- ---------------------------------- 49.0/385.0 MB 3.0 MB/s eta 0:01:54\n",
      "   ----- ---------------------------------- 49.8/385.0 MB 3.0 MB/s eta 0:01:54\n",
      "   ----- ---------------------------------- 50.3/385.0 MB 3.0 MB/s eta 0:01:53\n",
      "   ----- ---------------------------------- 51.1/385.0 MB 3.0 MB/s eta 0:01:53\n",
      "   ----- ---------------------------------- 51.6/385.0 MB 3.0 MB/s eta 0:01:53\n",
      "   ----- ---------------------------------- 51.9/385.0 MB 3.0 MB/s eta 0:01:53\n",
      "   ----- ---------------------------------- 52.4/385.0 MB 2.9 MB/s eta 0:01:54\n",
      "   ----- ---------------------------------- 52.7/385.0 MB 2.9 MB/s eta 0:01:54\n",
      "   ----- ---------------------------------- 53.0/385.0 MB 2.9 MB/s eta 0:01:55\n",
      "   ----- ---------------------------------- 53.2/385.0 MB 2.9 MB/s eta 0:01:55\n",
      "   ----- ---------------------------------- 53.7/385.0 MB 2.9 MB/s eta 0:01:56\n",
      "   ----- ---------------------------------- 54.0/385.0 MB 2.9 MB/s eta 0:01:56\n",
      "   ----- ---------------------------------- 54.3/385.0 MB 2.9 MB/s eta 0:01:56\n",
      "   ----- ---------------------------------- 54.5/385.0 MB 2.8 MB/s eta 0:01:57\n",
      "   ----- ---------------------------------- 55.1/385.0 MB 2.8 MB/s eta 0:01:58\n",
      "   ----- ---------------------------------- 55.3/385.0 MB 2.8 MB/s eta 0:01:58\n",
      "   ----- ---------------------------------- 55.6/385.0 MB 2.8 MB/s eta 0:01:59\n",
      "   ----- ---------------------------------- 55.8/385.0 MB 2.8 MB/s eta 0:01:59\n",
      "   ----- ---------------------------------- 56.1/385.0 MB 2.8 MB/s eta 0:02:00\n",
      "   ----- ---------------------------------- 56.4/385.0 MB 2.7 MB/s eta 0:02:00\n",
      "   ----- ---------------------------------- 56.9/385.0 MB 2.7 MB/s eta 0:02:01\n",
      "   ----- ---------------------------------- 57.1/385.0 MB 2.7 MB/s eta 0:02:01\n",
      "   ----- ---------------------------------- 57.4/385.0 MB 2.7 MB/s eta 0:02:01\n",
      "   ------ --------------------------------- 57.9/385.0 MB 2.7 MB/s eta 0:02:02\n",
      "   ------ --------------------------------- 58.2/385.0 MB 2.7 MB/s eta 0:02:02\n",
      "   ------ --------------------------------- 58.5/385.0 MB 2.7 MB/s eta 0:02:02\n",
      "   ------ --------------------------------- 59.0/385.0 MB 2.7 MB/s eta 0:02:03\n",
      "   ------ --------------------------------- 59.2/385.0 MB 2.7 MB/s eta 0:02:03\n",
      "   ------ --------------------------------- 59.5/385.0 MB 2.7 MB/s eta 0:02:03\n",
      "   ------ --------------------------------- 60.0/385.0 MB 2.6 MB/s eta 0:02:03\n",
      "   ------ --------------------------------- 60.3/385.0 MB 2.6 MB/s eta 0:02:04\n",
      "   ------ --------------------------------- 60.6/385.0 MB 2.6 MB/s eta 0:02:04\n",
      "   ------ --------------------------------- 61.1/385.0 MB 2.6 MB/s eta 0:02:04\n",
      "   ------ --------------------------------- 61.3/385.0 MB 2.6 MB/s eta 0:02:04\n",
      "   ------ --------------------------------- 61.9/385.0 MB 2.6 MB/s eta 0:02:04\n",
      "   ------ --------------------------------- 62.1/385.0 MB 2.6 MB/s eta 0:02:04\n",
      "   ------ --------------------------------- 62.7/385.0 MB 2.6 MB/s eta 0:02:05\n",
      "   ------ --------------------------------- 63.2/385.0 MB 2.6 MB/s eta 0:02:05\n",
      "   ------ --------------------------------- 63.4/385.0 MB 2.6 MB/s eta 0:02:05\n",
      "   ------ --------------------------------- 64.0/385.0 MB 2.6 MB/s eta 0:02:05\n",
      "   ------ --------------------------------- 64.2/385.0 MB 2.6 MB/s eta 0:02:05\n",
      "   ------ --------------------------------- 64.7/385.0 MB 2.6 MB/s eta 0:02:05\n",
      "   ------ --------------------------------- 65.3/385.0 MB 2.6 MB/s eta 0:02:05\n",
      "   ------ --------------------------------- 65.8/385.0 MB 2.6 MB/s eta 0:02:05\n",
      "   ------ --------------------------------- 66.1/385.0 MB 2.6 MB/s eta 0:02:05\n",
      "   ------ --------------------------------- 66.6/385.0 MB 2.6 MB/s eta 0:02:05\n",
      "   ------ --------------------------------- 67.1/385.0 MB 2.6 MB/s eta 0:02:05\n",
      "   ------- -------------------------------- 67.6/385.0 MB 2.6 MB/s eta 0:02:04\n",
      "   ------- -------------------------------- 68.2/385.0 MB 2.6 MB/s eta 0:02:04\n",
      "   ------- -------------------------------- 68.7/385.0 MB 2.6 MB/s eta 0:02:04\n",
      "   ------- -------------------------------- 69.2/385.0 MB 2.6 MB/s eta 0:02:04\n",
      "   ------- -------------------------------- 69.7/385.0 MB 2.6 MB/s eta 0:02:04\n",
      "   ------- -------------------------------- 70.5/385.0 MB 2.6 MB/s eta 0:02:03\n",
      "   ------- -------------------------------- 71.0/385.0 MB 2.6 MB/s eta 0:02:03\n",
      "   ------- -------------------------------- 71.6/385.0 MB 2.6 MB/s eta 0:02:03\n",
      "   ------- -------------------------------- 72.4/385.0 MB 2.6 MB/s eta 0:02:02\n",
      "   ------- -------------------------------- 73.1/385.0 MB 2.6 MB/s eta 0:02:01\n",
      "   ------- -------------------------------- 73.7/385.0 MB 2.6 MB/s eta 0:02:01\n",
      "   ------- -------------------------------- 74.4/385.0 MB 2.6 MB/s eta 0:02:00\n",
      "   ------- -------------------------------- 75.5/385.0 MB 2.6 MB/s eta 0:01:59\n",
      "   ------- -------------------------------- 76.5/385.0 MB 2.6 MB/s eta 0:01:58\n",
      "   -------- ------------------------------- 77.3/385.0 MB 2.6 MB/s eta 0:01:57\n",
      "   -------- ------------------------------- 78.1/385.0 MB 2.6 MB/s eta 0:01:57\n",
      "   -------- ------------------------------- 78.9/385.0 MB 2.6 MB/s eta 0:01:56\n",
      "   -------- ------------------------------- 79.4/385.0 MB 2.6 MB/s eta 0:01:56\n",
      "   -------- ------------------------------- 80.2/385.0 MB 2.7 MB/s eta 0:01:55\n",
      "   -------- ------------------------------- 81.0/385.0 MB 2.7 MB/s eta 0:01:55\n",
      "   -------- ------------------------------- 81.8/385.0 MB 2.7 MB/s eta 0:01:54\n",
      "   -------- ------------------------------- 82.6/385.0 MB 2.7 MB/s eta 0:01:53\n",
      "   -------- ------------------------------- 83.9/385.0 MB 2.7 MB/s eta 0:01:52\n",
      "   -------- ------------------------------- 84.9/385.0 MB 2.7 MB/s eta 0:01:51\n",
      "   -------- ------------------------------- 85.7/385.0 MB 2.7 MB/s eta 0:01:51\n",
      "   --------- ------------------------------ 87.0/385.0 MB 2.7 MB/s eta 0:01:49\n",
      "   --------- ------------------------------ 88.1/385.0 MB 2.7 MB/s eta 0:01:49\n",
      "   --------- ------------------------------ 89.1/385.0 MB 2.8 MB/s eta 0:01:47\n",
      "   --------- ------------------------------ 90.2/385.0 MB 2.8 MB/s eta 0:01:47\n",
      "   --------- ------------------------------ 91.2/385.0 MB 2.8 MB/s eta 0:01:45\n",
      "   --------- ------------------------------ 92.5/385.0 MB 2.8 MB/s eta 0:01:44\n",
      "   --------- ------------------------------ 93.6/385.0 MB 2.8 MB/s eta 0:01:43\n",
      "   --------- ------------------------------ 94.6/385.0 MB 2.8 MB/s eta 0:01:42\n",
      "   --------- ------------------------------ 96.2/385.0 MB 2.9 MB/s eta 0:01:41\n",
      "   ---------- ----------------------------- 97.3/385.0 MB 2.9 MB/s eta 0:01:40\n",
      "   ---------- ----------------------------- 98.6/385.0 MB 2.9 MB/s eta 0:01:38\n",
      "   ---------- ----------------------------- 99.9/385.0 MB 2.9 MB/s eta 0:01:37\n",
      "   ---------- ----------------------------- 101.2/385.0 MB 3.0 MB/s eta 0:01:36\n",
      "   ---------- ----------------------------- 102.5/385.0 MB 3.0 MB/s eta 0:01:35\n",
      "   ---------- ----------------------------- 103.8/385.0 MB 3.0 MB/s eta 0:01:34\n",
      "   ---------- ----------------------------- 104.9/385.0 MB 3.0 MB/s eta 0:01:33\n",
      "   ---------- ----------------------------- 105.6/385.0 MB 3.0 MB/s eta 0:01:33\n",
      "   ----------- ---------------------------- 107.0/385.0 MB 3.1 MB/s eta 0:01:31\n",
      "   ----------- ---------------------------- 108.0/385.0 MB 3.1 MB/s eta 0:01:31\n",
      "   ----------- ---------------------------- 109.3/385.0 MB 3.1 MB/s eta 0:01:30\n",
      "   ----------- ---------------------------- 110.6/385.0 MB 3.1 MB/s eta 0:01:28\n",
      "   ----------- ---------------------------- 111.9/385.0 MB 3.1 MB/s eta 0:01:28\n",
      "   ----------- ---------------------------- 113.0/385.0 MB 3.2 MB/s eta 0:01:27\n",
      "   ----------- ---------------------------- 114.3/385.0 MB 3.2 MB/s eta 0:01:26\n",
      "   ----------- ---------------------------- 115.3/385.0 MB 3.2 MB/s eta 0:01:25\n",
      "   ------------ --------------------------- 116.1/385.0 MB 3.2 MB/s eta 0:01:25\n",
      "   ------------ --------------------------- 116.9/385.0 MB 3.2 MB/s eta 0:01:24\n",
      "   ------------ --------------------------- 117.7/385.0 MB 3.2 MB/s eta 0:01:24\n",
      "   ------------ --------------------------- 118.2/385.0 MB 3.2 MB/s eta 0:01:24\n",
      "   ------------ --------------------------- 119.0/385.0 MB 3.2 MB/s eta 0:01:23\n",
      "   ------------ --------------------------- 119.5/385.0 MB 3.2 MB/s eta 0:01:23\n",
      "   ------------ --------------------------- 120.3/385.0 MB 3.2 MB/s eta 0:01:23\n",
      "   ------------ --------------------------- 121.1/385.0 MB 3.2 MB/s eta 0:01:22\n",
      "   ------------ --------------------------- 121.9/385.0 MB 3.2 MB/s eta 0:01:22\n",
      "   ------------ --------------------------- 122.4/385.0 MB 3.2 MB/s eta 0:01:21\n",
      "   ------------ --------------------------- 123.2/385.0 MB 3.2 MB/s eta 0:01:21\n",
      "   ------------ --------------------------- 123.7/385.0 MB 3.2 MB/s eta 0:01:21\n",
      "   ------------ --------------------------- 124.3/385.0 MB 3.2 MB/s eta 0:01:21\n",
      "   ------------ --------------------------- 124.8/385.0 MB 3.2 MB/s eta 0:01:21\n",
      "   ------------- -------------------------- 125.3/385.0 MB 3.2 MB/s eta 0:01:21\n",
      "   ------------- -------------------------- 125.8/385.0 MB 3.2 MB/s eta 0:01:21\n",
      "   ------------- -------------------------- 126.4/385.0 MB 3.2 MB/s eta 0:01:21\n",
      "   ------------- -------------------------- 126.9/385.0 MB 3.2 MB/s eta 0:01:21\n",
      "   ------------- -------------------------- 127.7/385.0 MB 3.2 MB/s eta 0:01:20\n",
      "   ------------- -------------------------- 128.5/385.0 MB 3.2 MB/s eta 0:01:20\n",
      "   ------------- -------------------------- 129.5/385.0 MB 3.2 MB/s eta 0:01:19\n",
      "   ------------- -------------------------- 130.5/385.0 MB 3.3 MB/s eta 0:01:19\n",
      "   ------------- -------------------------- 131.6/385.0 MB 3.3 MB/s eta 0:01:18\n",
      "   ------------- -------------------------- 132.6/385.0 MB 3.3 MB/s eta 0:01:17\n",
      "   ------------- -------------------------- 133.4/385.0 MB 3.3 MB/s eta 0:01:17\n",
      "   ------------- -------------------------- 134.2/385.0 MB 3.3 MB/s eta 0:01:17\n",
      "   -------------- ------------------------- 135.3/385.0 MB 3.3 MB/s eta 0:01:16\n",
      "   -------------- ------------------------- 137.1/385.0 MB 3.3 MB/s eta 0:01:15\n",
      "   -------------- ------------------------- 138.9/385.0 MB 3.4 MB/s eta 0:01:13\n",
      "   -------------- ------------------------- 140.5/385.0 MB 3.4 MB/s eta 0:01:12\n",
      "   -------------- ------------------------- 142.6/385.0 MB 3.5 MB/s eta 0:01:11\n",
      "   --------------- ------------------------ 144.4/385.0 MB 3.5 MB/s eta 0:01:09\n",
      "   --------------- ------------------------ 145.8/385.0 MB 3.5 MB/s eta 0:01:08\n",
      "   --------------- ------------------------ 147.8/385.0 MB 3.6 MB/s eta 0:01:07\n",
      "   --------------- ------------------------ 149.7/385.0 MB 3.6 MB/s eta 0:01:06\n",
      "   --------------- ------------------------ 151.3/385.0 MB 3.7 MB/s eta 0:01:05\n",
      "   --------------- ------------------------ 153.1/385.0 MB 3.7 MB/s eta 0:01:03\n",
      "   ---------------- ----------------------- 154.4/385.0 MB 3.7 MB/s eta 0:01:03\n",
      "   ---------------- ----------------------- 156.0/385.0 MB 3.7 MB/s eta 0:01:02\n",
      "   ---------------- ----------------------- 157.8/385.0 MB 3.8 MB/s eta 0:01:00\n",
      "   ---------------- ----------------------- 159.6/385.0 MB 3.8 MB/s eta 0:00:59\n",
      "   ---------------- ----------------------- 161.5/385.0 MB 3.9 MB/s eta 0:00:58\n",
      "   ---------------- ----------------------- 163.3/385.0 MB 3.9 MB/s eta 0:00:57\n",
      "   ----------------- ---------------------- 164.6/385.0 MB 3.9 MB/s eta 0:00:57\n",
      "   ----------------- ---------------------- 165.7/385.0 MB 3.9 MB/s eta 0:00:56\n",
      "   ----------------- ---------------------- 167.2/385.0 MB 4.0 MB/s eta 0:00:55\n",
      "   ----------------- ---------------------- 168.6/385.0 MB 4.0 MB/s eta 0:00:55\n",
      "   ----------------- ---------------------- 169.9/385.0 MB 4.0 MB/s eta 0:00:54\n",
      "   ----------------- ---------------------- 170.9/385.0 MB 4.0 MB/s eta 0:00:54\n",
      "   ----------------- ---------------------- 172.2/385.0 MB 4.0 MB/s eta 0:00:53\n",
      "   ------------------ --------------------- 173.5/385.0 MB 4.1 MB/s eta 0:00:52\n",
      "   ------------------ --------------------- 174.9/385.0 MB 4.1 MB/s eta 0:00:52\n",
      "   ------------------ --------------------- 175.6/385.0 MB 4.1 MB/s eta 0:00:51\n",
      "   ------------------ --------------------- 176.7/385.0 MB 4.1 MB/s eta 0:00:51\n",
      "   ------------------ --------------------- 178.3/385.0 MB 4.2 MB/s eta 0:00:50\n",
      "   ------------------ --------------------- 179.8/385.0 MB 4.2 MB/s eta 0:00:49\n",
      "   ------------------ --------------------- 181.7/385.0 MB 4.3 MB/s eta 0:00:48\n",
      "   ------------------- -------------------- 183.5/385.0 MB 4.3 MB/s eta 0:00:47\n",
      "   ------------------- -------------------- 185.1/385.0 MB 4.4 MB/s eta 0:00:46\n",
      "   ------------------- -------------------- 186.9/385.0 MB 4.4 MB/s eta 0:00:45\n",
      "   ------------------- -------------------- 188.7/385.0 MB 4.5 MB/s eta 0:00:44\n",
      "   ------------------- -------------------- 190.6/385.0 MB 4.5 MB/s eta 0:00:43\n",
      "   -------------------- ------------------- 192.7/385.0 MB 4.6 MB/s eta 0:00:42\n",
      "   -------------------- ------------------- 194.5/385.0 MB 4.6 MB/s eta 0:00:42\n",
      "   -------------------- ------------------- 196.3/385.0 MB 4.7 MB/s eta 0:00:41\n",
      "   -------------------- ------------------- 198.4/385.0 MB 4.7 MB/s eta 0:00:40\n",
      "   -------------------- ------------------- 200.3/385.0 MB 4.8 MB/s eta 0:00:39\n",
      "   --------------------- ------------------ 202.4/385.0 MB 4.9 MB/s eta 0:00:38\n",
      "   --------------------- ------------------ 204.2/385.0 MB 4.9 MB/s eta 0:00:37\n",
      "   --------------------- ------------------ 206.0/385.0 MB 4.9 MB/s eta 0:00:37\n",
      "   --------------------- ------------------ 207.6/385.0 MB 5.0 MB/s eta 0:00:36\n",
      "   --------------------- ------------------ 209.5/385.0 MB 5.0 MB/s eta 0:00:35\n",
      "   --------------------- ------------------ 211.3/385.0 MB 5.1 MB/s eta 0:00:35\n",
      "   ---------------------- ----------------- 212.9/385.0 MB 5.1 MB/s eta 0:00:34\n",
      "   ---------------------- ----------------- 214.4/385.0 MB 5.2 MB/s eta 0:00:33\n",
      "   ---------------------- ----------------- 215.7/385.0 MB 5.2 MB/s eta 0:00:33\n",
      "   ---------------------- ----------------- 217.3/385.0 MB 5.3 MB/s eta 0:00:32\n",
      "   ---------------------- ----------------- 218.6/385.0 MB 5.3 MB/s eta 0:00:32\n",
      "   ---------------------- ----------------- 220.5/385.0 MB 5.3 MB/s eta 0:00:31\n",
      "   ----------------------- ---------------- 222.3/385.0 MB 5.4 MB/s eta 0:00:31\n",
      "   ----------------------- ---------------- 223.9/385.0 MB 5.4 MB/s eta 0:00:30\n",
      "   ----------------------- ---------------- 225.4/385.0 MB 5.5 MB/s eta 0:00:30\n",
      "   ----------------------- ---------------- 227.3/385.0 MB 5.5 MB/s eta 0:00:29\n",
      "   ----------------------- ---------------- 229.1/385.0 MB 5.6 MB/s eta 0:00:29\n",
      "   ----------------------- ---------------- 230.9/385.0 MB 5.6 MB/s eta 0:00:28\n",
      "   ------------------------ --------------- 232.8/385.0 MB 5.6 MB/s eta 0:00:27\n",
      "   ------------------------ --------------- 234.6/385.0 MB 5.7 MB/s eta 0:00:27\n",
      "   ------------------------ --------------- 236.5/385.0 MB 5.7 MB/s eta 0:00:26\n",
      "   ------------------------ --------------- 238.0/385.0 MB 5.8 MB/s eta 0:00:26\n",
      "   ------------------------ --------------- 240.1/385.0 MB 5.8 MB/s eta 0:00:25\n",
      "   ------------------------- -------------- 242.0/385.0 MB 5.9 MB/s eta 0:00:25\n",
      "   ------------------------- -------------- 243.5/385.0 MB 5.9 MB/s eta 0:00:24\n",
      "   ------------------------- -------------- 245.1/385.0 MB 5.9 MB/s eta 0:00:24\n",
      "   ------------------------- -------------- 246.7/385.0 MB 6.0 MB/s eta 0:00:24\n",
      "   ------------------------- -------------- 248.5/385.0 MB 6.0 MB/s eta 0:00:23\n",
      "   ------------------------- -------------- 250.1/385.0 MB 6.1 MB/s eta 0:00:23\n",
      "   -------------------------- ------------- 251.9/385.0 MB 6.1 MB/s eta 0:00:22\n",
      "   -------------------------- ------------- 253.5/385.0 MB 6.1 MB/s eta 0:00:22\n",
      "   -------------------------- ------------- 255.1/385.0 MB 6.2 MB/s eta 0:00:22\n",
      "   -------------------------- ------------- 257.2/385.0 MB 6.2 MB/s eta 0:00:21\n",
      "   -------------------------- ------------- 259.5/385.0 MB 6.3 MB/s eta 0:00:21\n",
      "   --------------------------- ------------ 261.6/385.0 MB 6.3 MB/s eta 0:00:20\n",
      "   --------------------------- ------------ 264.0/385.0 MB 6.4 MB/s eta 0:00:19\n",
      "   --------------------------- ------------ 266.3/385.0 MB 6.4 MB/s eta 0:00:19\n",
      "   --------------------------- ------------ 268.4/385.0 MB 6.5 MB/s eta 0:00:18\n",
      "   ---------------------------- ----------- 270.3/385.0 MB 6.5 MB/s eta 0:00:18\n",
      "   ---------------------------- ----------- 272.6/385.0 MB 6.6 MB/s eta 0:00:18\n",
      "   ---------------------------- ----------- 275.3/385.0 MB 6.6 MB/s eta 0:00:17\n",
      "   ---------------------------- ----------- 277.6/385.0 MB 6.7 MB/s eta 0:00:17\n",
      "   ----------------------------- ---------- 279.4/385.0 MB 6.7 MB/s eta 0:00:16\n",
      "   ----------------------------- ---------- 281.3/385.0 MB 6.7 MB/s eta 0:00:16\n",
      "   ----------------------------- ---------- 282.6/385.0 MB 6.8 MB/s eta 0:00:16\n",
      "   ----------------------------- ---------- 284.4/385.0 MB 6.8 MB/s eta 0:00:15\n",
      "   ----------------------------- ---------- 286.5/385.0 MB 6.8 MB/s eta 0:00:15\n",
      "   ----------------------------- ---------- 288.6/385.0 MB 6.9 MB/s eta 0:00:15\n",
      "   ------------------------------ --------- 290.5/385.0 MB 6.9 MB/s eta 0:00:14\n",
      "   ------------------------------ --------- 292.3/385.0 MB 6.9 MB/s eta 0:00:14\n",
      "   ------------------------------ --------- 294.4/385.0 MB 7.0 MB/s eta 0:00:13\n",
      "   ------------------------------ --------- 296.5/385.0 MB 7.0 MB/s eta 0:00:13\n",
      "   ------------------------------- -------- 298.8/385.0 MB 7.1 MB/s eta 0:00:13\n",
      "   ------------------------------- -------- 301.2/385.0 MB 7.1 MB/s eta 0:00:12\n",
      "   ------------------------------- -------- 303.8/385.0 MB 7.2 MB/s eta 0:00:12\n",
      "   ------------------------------- -------- 305.9/385.0 MB 7.2 MB/s eta 0:00:12\n",
      "   ------------------------------- -------- 308.0/385.0 MB 7.2 MB/s eta 0:00:11\n",
      "   -------------------------------- ------- 309.9/385.0 MB 7.2 MB/s eta 0:00:11\n",
      "   -------------------------------- ------- 312.0/385.0 MB 7.3 MB/s eta 0:00:11\n",
      "   -------------------------------- ------- 313.8/385.0 MB 7.3 MB/s eta 0:00:10\n",
      "   -------------------------------- ------- 315.6/385.0 MB 7.3 MB/s eta 0:00:10\n",
      "   -------------------------------- ------- 317.5/385.0 MB 7.3 MB/s eta 0:00:10\n",
      "   --------------------------------- ------ 318.8/385.0 MB 7.3 MB/s eta 0:00:10\n",
      "   --------------------------------- ------ 320.1/385.0 MB 7.3 MB/s eta 0:00:09\n",
      "   --------------------------------- ------ 321.7/385.0 MB 7.3 MB/s eta 0:00:09\n",
      "   --------------------------------- ------ 323.5/385.0 MB 7.4 MB/s eta 0:00:09\n",
      "   --------------------------------- ------ 325.3/385.0 MB 7.4 MB/s eta 0:00:09\n",
      "   --------------------------------- ------ 327.2/385.0 MB 7.4 MB/s eta 0:00:08\n",
      "   ---------------------------------- ----- 329.0/385.0 MB 7.4 MB/s eta 0:00:08\n",
      "   ---------------------------------- ----- 331.4/385.0 MB 7.5 MB/s eta 0:00:08\n",
      "   ---------------------------------- ----- 332.9/385.0 MB 7.5 MB/s eta 0:00:07\n",
      "   ---------------------------------- ----- 334.8/385.0 MB 7.5 MB/s eta 0:00:07\n",
      "   ---------------------------------- ----- 336.6/385.0 MB 7.5 MB/s eta 0:00:07\n",
      "   ----------------------------------- ---- 338.2/385.0 MB 7.5 MB/s eta 0:00:07\n",
      "   ----------------------------------- ---- 339.7/385.0 MB 7.5 MB/s eta 0:00:06\n",
      "   ----------------------------------- ---- 341.6/385.0 MB 7.6 MB/s eta 0:00:06\n",
      "   ----------------------------------- ---- 343.4/385.0 MB 7.6 MB/s eta 0:00:06\n",
      "   ----------------------------------- ---- 345.0/385.0 MB 7.6 MB/s eta 0:00:06\n",
      "   ------------------------------------ --- 346.8/385.0 MB 7.7 MB/s eta 0:00:05\n",
      "   ------------------------------------ --- 348.4/385.0 MB 7.7 MB/s eta 0:00:05\n",
      "   ------------------------------------ --- 350.2/385.0 MB 7.7 MB/s eta 0:00:05\n",
      "   ------------------------------------ --- 352.3/385.0 MB 7.8 MB/s eta 0:00:05\n",
      "   ------------------------------------ --- 354.4/385.0 MB 7.8 MB/s eta 0:00:04\n",
      "   ------------------------------------- -- 356.5/385.0 MB 7.9 MB/s eta 0:00:04\n",
      "   ------------------------------------- -- 358.9/385.0 MB 7.9 MB/s eta 0:00:04\n",
      "   ------------------------------------- -- 361.2/385.0 MB 8.0 MB/s eta 0:00:03\n",
      "   ------------------------------------- -- 363.3/385.0 MB 8.0 MB/s eta 0:00:03\n",
      "   -------------------------------------- - 366.0/385.0 MB 8.1 MB/s eta 0:00:03\n",
      "   -------------------------------------- - 368.3/385.0 MB 8.2 MB/s eta 0:00:03\n",
      "   -------------------------------------- - 370.7/385.0 MB 8.2 MB/s eta 0:00:02\n",
      "   -------------------------------------- - 373.0/385.0 MB 8.3 MB/s eta 0:00:02\n",
      "   -------------------------------------- - 375.4/385.0 MB 8.3 MB/s eta 0:00:02\n",
      "   ---------------------------------------  377.7/385.0 MB 8.4 MB/s eta 0:00:01\n",
      "   ---------------------------------------  379.8/385.0 MB 8.5 MB/s eta 0:00:01\n",
      "   ---------------------------------------  381.9/385.0 MB 8.5 MB/s eta 0:00:01\n",
      "   ---------------------------------------  384.0/385.0 MB 8.5 MB/s eta 0:00:01\n",
      "   ---------------------------------------  384.8/385.0 MB 8.6 MB/s eta 0:00:01\n",
      "   ---------------------------------------  384.8/385.0 MB 8.6 MB/s eta 0:00:01\n",
      "   ---------------------------------------- 385.0/385.0 MB 8.5 MB/s eta 0:00:00\n",
      "Downloading flatbuffers-24.3.25-py2.py3-none-any.whl (26 kB)\n",
      "Downloading h5py-3.11.0-cp311-cp311-win_amd64.whl (3.0 MB)\n",
      "   ---------------------------------------- 0.0/3.0 MB ? eta -:--:--\n",
      "   ------------------------ --------------- 1.8/3.0 MB 9.1 MB/s eta 0:00:01\n",
      "   ---------------------------------------- 3.0/3.0 MB 8.7 MB/s eta 0:00:00\n",
      "Downloading ml_dtypes-0.4.0-cp311-cp311-win_amd64.whl (126 kB)\n",
      "Downloading tensorboard-2.17.1-py3-none-any.whl (5.5 MB)\n",
      "   ---------------------------------------- 0.0/5.5 MB ? eta -:--:--\n",
      "   --------- ------------------------------ 1.3/5.5 MB 6.7 MB/s eta 0:00:01\n",
      "   -------------------- ------------------- 2.9/5.5 MB 7.3 MB/s eta 0:00:01\n",
      "   -------------------------------- ------- 4.5/5.5 MB 6.9 MB/s eta 0:00:01\n",
      "   ---------------------------------------- 5.5/5.5 MB 6.4 MB/s eta 0:00:00\n",
      "Installing collected packages: flatbuffers, ml-dtypes, h5py, tensorboard, tensorflow-intel, tensorflow\n",
      "  Attempting uninstall: flatbuffers\n",
      "    Found existing installation: flatbuffers 23.5.26\n",
      "    Uninstalling flatbuffers-23.5.26:\n",
      "      Successfully uninstalled flatbuffers-23.5.26\n",
      "  Attempting uninstall: ml-dtypes\n",
      "    Found existing installation: ml-dtypes 0.2.0\n",
      "    Uninstalling ml-dtypes-0.2.0:\n",
      "      Successfully uninstalled ml-dtypes-0.2.0\n",
      "  Attempting uninstall: h5py\n",
      "    Found existing installation: h5py 3.9.0\n",
      "    Uninstalling h5py-3.9.0:\n",
      "      Successfully uninstalled h5py-3.9.0\n",
      "  Attempting uninstall: tensorboard\n",
      "    Found existing installation: tensorboard 2.14.1\n",
      "    Uninstalling tensorboard-2.14.1:\n",
      "      Successfully uninstalled tensorboard-2.14.1\n",
      "  Attempting uninstall: tensorflow-intel\n",
      "    Found existing installation: tensorflow-intel 2.14.0\n",
      "    Uninstalling tensorflow-intel-2.14.0:\n",
      "      Successfully uninstalled tensorflow-intel-2.14.0\n",
      "  Attempting uninstall: tensorflow\n",
      "    Found existing installation: tensorflow 2.14.0\n",
      "    Uninstalling tensorflow-2.14.0:\n",
      "      Successfully uninstalled tensorflow-2.14.0\n",
      "Successfully installed flatbuffers-24.3.25 h5py-3.11.0 ml-dtypes-0.4.0 tensorboard-2.17.1 tensorflow-2.17.0 tensorflow-intel-2.17.0\n"
     ]
    },
    {
     "name": "stderr",
     "output_type": "stream",
     "text": [
      "  WARNING: Failed to remove contents in a temporary directory 'C:\\Conda_new\\Lib\\site-packages\\~l_dtypes'.\n",
      "  You can safely remove it manually.\n",
      "  WARNING: Failed to remove contents in a temporary directory 'C:\\Conda_new\\Lib\\site-packages\\~5py'.\n",
      "  You can safely remove it manually.\n",
      "  WARNING: Failed to remove contents in a temporary directory 'C:\\Conda_new\\Lib\\site-packages\\~ensorflow'.\n",
      "  You can safely remove it manually.\n"
     ]
    }
   ],
   "source": [
    "!pip3 install --upgrade tensorflow"
   ]
  },
  {
   "cell_type": "code",
   "execution_count": 93,
   "id": "273d3ba0-7670-4dc3-9856-2248dd6dbc6a",
   "metadata": {},
   "outputs": [
    {
     "name": "stdout",
     "output_type": "stream",
     "text": [
      "Collecting keras\n",
      "  Downloading keras-3.5.0-py3-none-any.whl (1.1 MB)\n",
      "     ---------------------------------------- 0.0/1.1 MB ? eta -:--:--\n",
      "     ---------------------------------------- 1.1/1.1 MB 8.0 MB/s eta 0:00:00\n",
      "Requirement already satisfied, skipping upgrade: absl-py in c:\\conda_new\\lib\\site-packages (from keras) (2.0.0)\n",
      "Requirement already satisfied, skipping upgrade: numpy in c:\\conda_new\\lib\\site-packages (from keras) (1.26.4)\n",
      "Requirement already satisfied, skipping upgrade: rich in c:\\conda_new\\lib\\site-packages (from keras) (13.3.5)\n",
      "Requirement already satisfied, skipping upgrade: namex in c:\\conda_new\\lib\\site-packages (from keras) (0.0.8)\n",
      "Requirement already satisfied, skipping upgrade: h5py in c:\\conda_new\\lib\\site-packages (from keras) (3.11.0)\n",
      "Requirement already satisfied, skipping upgrade: optree in c:\\conda_new\\lib\\site-packages (from keras) (0.12.1)\n",
      "Requirement already satisfied, skipping upgrade: ml-dtypes in c:\\conda_new\\lib\\site-packages (from keras) (0.4.0)\n",
      "Requirement already satisfied, skipping upgrade: packaging in c:\\conda_new\\lib\\site-packages (from keras) (23.2)\n",
      "Requirement already satisfied, skipping upgrade: markdown-it-py<3.0.0,>=2.2.0 in c:\\conda_new\\lib\\site-packages (from rich->keras) (2.2.0)\n",
      "Requirement already satisfied, skipping upgrade: pygments<3.0.0,>=2.13.0 in c:\\conda_new\\lib\\site-packages (from rich->keras) (2.15.1)\n",
      "Requirement already satisfied, skipping upgrade: typing-extensions>=4.5.0 in c:\\conda_new\\lib\\site-packages (from optree->keras) (4.9.0)\n",
      "Requirement already satisfied, skipping upgrade: mdurl~=0.1 in c:\\conda_new\\lib\\site-packages (from markdown-it-py<3.0.0,>=2.2.0->rich->keras) (0.1.0)\n",
      "Installing collected packages: keras\n",
      "  Attempting uninstall: keras\n",
      "    Found existing installation: keras 3.4.1\n",
      "    Uninstalling keras-3.4.1:\n",
      "      Successfully uninstalled keras-3.4.1\n",
      "Successfully installed keras-3.5.0\n"
     ]
    }
   ],
   "source": [
    "!pip install --upgrade keras --use-deprecated=legacy-resolver"
   ]
  },
  {
   "cell_type": "code",
   "execution_count": 90,
   "id": "76a52fd2-3404-42e7-b39c-f1f4acb3e955",
   "metadata": {},
   "outputs": [
    {
     "name": "stdout",
     "output_type": "stream",
     "text": [
      "Collecting tensorflow-cpu\n",
      "  Downloading tensorflow_cpu-2.17.0-cp311-cp311-win_amd64.whl.metadata (3.2 kB)\n",
      "Requirement already satisfied: tensorflow-intel==2.17.0 in c:\\conda_new\\lib\\site-packages (from tensorflow-cpu) (2.17.0)\n",
      "Requirement already satisfied: absl-py>=1.0.0 in c:\\conda_new\\lib\\site-packages (from tensorflow-intel==2.17.0->tensorflow-cpu) (2.0.0)\n",
      "Requirement already satisfied: astunparse>=1.6.0 in c:\\conda_new\\lib\\site-packages (from tensorflow-intel==2.17.0->tensorflow-cpu) (1.6.3)\n",
      "Requirement already satisfied: flatbuffers>=24.3.25 in c:\\conda_new\\lib\\site-packages (from tensorflow-intel==2.17.0->tensorflow-cpu) (24.3.25)\n",
      "Requirement already satisfied: gast!=0.5.0,!=0.5.1,!=0.5.2,>=0.2.1 in c:\\conda_new\\lib\\site-packages (from tensorflow-intel==2.17.0->tensorflow-cpu) (0.5.4)\n",
      "Requirement already satisfied: google-pasta>=0.1.1 in c:\\conda_new\\lib\\site-packages (from tensorflow-intel==2.17.0->tensorflow-cpu) (0.2.0)\n",
      "Requirement already satisfied: h5py>=3.10.0 in c:\\conda_new\\lib\\site-packages (from tensorflow-intel==2.17.0->tensorflow-cpu) (3.11.0)\n",
      "Requirement already satisfied: libclang>=13.0.0 in c:\\conda_new\\lib\\site-packages (from tensorflow-intel==2.17.0->tensorflow-cpu) (16.0.6)\n",
      "Requirement already satisfied: ml-dtypes<0.5.0,>=0.3.1 in c:\\conda_new\\lib\\site-packages (from tensorflow-intel==2.17.0->tensorflow-cpu) (0.4.0)\n",
      "Requirement already satisfied: opt-einsum>=2.3.2 in c:\\conda_new\\lib\\site-packages (from tensorflow-intel==2.17.0->tensorflow-cpu) (3.3.0)\n",
      "Requirement already satisfied: packaging in c:\\conda_new\\lib\\site-packages (from tensorflow-intel==2.17.0->tensorflow-cpu) (23.2)\n",
      "Requirement already satisfied: protobuf!=4.21.0,!=4.21.1,!=4.21.2,!=4.21.3,!=4.21.4,!=4.21.5,<5.0.0dev,>=3.20.3 in c:\\conda_new\\lib\\site-packages (from tensorflow-intel==2.17.0->tensorflow-cpu) (3.20.3)\n",
      "Requirement already satisfied: requests<3,>=2.21.0 in c:\\conda_new\\lib\\site-packages (from tensorflow-intel==2.17.0->tensorflow-cpu) (2.31.0)\n",
      "Requirement already satisfied: setuptools in c:\\conda_new\\lib\\site-packages (from tensorflow-intel==2.17.0->tensorflow-cpu) (68.2.2)\n",
      "Requirement already satisfied: six>=1.12.0 in c:\\conda_new\\lib\\site-packages (from tensorflow-intel==2.17.0->tensorflow-cpu) (1.16.0)\n",
      "Requirement already satisfied: termcolor>=1.1.0 in c:\\conda_new\\lib\\site-packages (from tensorflow-intel==2.17.0->tensorflow-cpu) (2.3.0)\n",
      "Requirement already satisfied: typing-extensions>=3.6.6 in c:\\conda_new\\lib\\site-packages (from tensorflow-intel==2.17.0->tensorflow-cpu) (4.9.0)\n",
      "Requirement already satisfied: wrapt>=1.11.0 in c:\\conda_new\\lib\\site-packages (from tensorflow-intel==2.17.0->tensorflow-cpu) (1.14.1)\n",
      "Requirement already satisfied: grpcio<2.0,>=1.24.3 in c:\\conda_new\\lib\\site-packages (from tensorflow-intel==2.17.0->tensorflow-cpu) (1.58.0)\n",
      "Requirement already satisfied: tensorboard<2.18,>=2.17 in c:\\conda_new\\lib\\site-packages (from tensorflow-intel==2.17.0->tensorflow-cpu) (2.17.1)\n",
      "Requirement already satisfied: keras>=3.2.0 in c:\\conda_new\\lib\\site-packages (from tensorflow-intel==2.17.0->tensorflow-cpu) (3.4.1)\n",
      "Requirement already satisfied: tensorflow-io-gcs-filesystem>=0.23.1 in c:\\conda_new\\lib\\site-packages (from tensorflow-intel==2.17.0->tensorflow-cpu) (0.31.0)\n",
      "Requirement already satisfied: numpy<2.0.0,>=1.23.5 in c:\\conda_new\\lib\\site-packages (from tensorflow-intel==2.17.0->tensorflow-cpu) (1.26.4)\n",
      "Requirement already satisfied: wheel<1.0,>=0.23.0 in c:\\conda_new\\lib\\site-packages (from astunparse>=1.6.0->tensorflow-intel==2.17.0->tensorflow-cpu) (0.41.2)\n",
      "Requirement already satisfied: rich in c:\\conda_new\\lib\\site-packages (from keras>=3.2.0->tensorflow-intel==2.17.0->tensorflow-cpu) (13.3.5)\n",
      "Requirement already satisfied: namex in c:\\conda_new\\lib\\site-packages (from keras>=3.2.0->tensorflow-intel==2.17.0->tensorflow-cpu) (0.0.8)\n",
      "Requirement already satisfied: optree in c:\\conda_new\\lib\\site-packages (from keras>=3.2.0->tensorflow-intel==2.17.0->tensorflow-cpu) (0.12.1)\n",
      "Requirement already satisfied: charset-normalizer<4,>=2 in c:\\conda_new\\lib\\site-packages (from requests<3,>=2.21.0->tensorflow-intel==2.17.0->tensorflow-cpu) (2.0.4)\n",
      "Requirement already satisfied: idna<4,>=2.5 in c:\\conda_new\\lib\\site-packages (from requests<3,>=2.21.0->tensorflow-intel==2.17.0->tensorflow-cpu) (3.4)\n",
      "Requirement already satisfied: urllib3<3,>=1.21.1 in c:\\conda_new\\lib\\site-packages (from requests<3,>=2.21.0->tensorflow-intel==2.17.0->tensorflow-cpu) (2.0.7)\n",
      "Requirement already satisfied: certifi>=2017.4.17 in c:\\conda_new\\lib\\site-packages (from requests<3,>=2.21.0->tensorflow-intel==2.17.0->tensorflow-cpu) (2024.2.2)\n",
      "Requirement already satisfied: markdown>=2.6.8 in c:\\conda_new\\lib\\site-packages (from tensorboard<2.18,>=2.17->tensorflow-intel==2.17.0->tensorflow-cpu) (3.4.1)\n",
      "Requirement already satisfied: tensorboard-data-server<0.8.0,>=0.7.0 in c:\\conda_new\\lib\\site-packages (from tensorboard<2.18,>=2.17->tensorflow-intel==2.17.0->tensorflow-cpu) (0.7.1)\n",
      "Requirement already satisfied: werkzeug>=1.0.1 in c:\\conda_new\\lib\\site-packages (from tensorboard<2.18,>=2.17->tensorflow-intel==2.17.0->tensorflow-cpu) (2.2.3)\n",
      "Requirement already satisfied: MarkupSafe>=2.1.1 in c:\\conda_new\\lib\\site-packages (from werkzeug>=1.0.1->tensorboard<2.18,>=2.17->tensorflow-intel==2.17.0->tensorflow-cpu) (2.1.3)\n",
      "Requirement already satisfied: markdown-it-py<3.0.0,>=2.2.0 in c:\\conda_new\\lib\\site-packages (from rich->keras>=3.2.0->tensorflow-intel==2.17.0->tensorflow-cpu) (2.2.0)\n",
      "Requirement already satisfied: pygments<3.0.0,>=2.13.0 in c:\\conda_new\\lib\\site-packages (from rich->keras>=3.2.0->tensorflow-intel==2.17.0->tensorflow-cpu) (2.15.1)\n",
      "Requirement already satisfied: mdurl~=0.1 in c:\\conda_new\\lib\\site-packages (from markdown-it-py<3.0.0,>=2.2.0->rich->keras>=3.2.0->tensorflow-intel==2.17.0->tensorflow-cpu) (0.1.0)\n",
      "Downloading tensorflow_cpu-2.17.0-cp311-cp311-win_amd64.whl (2.1 kB)\n",
      "Installing collected packages: tensorflow-cpu\n",
      "Successfully installed tensorflow-cpu-2.17.0\n"
     ]
    }
   ],
   "source": [
    "!pip install tensorflow-cpu "
   ]
  },
  {
   "cell_type": "code",
   "execution_count": null,
   "id": "8fa67af4-8b20-455d-85a6-2c6fca08d131",
   "metadata": {},
   "outputs": [],
   "source": []
  },
  {
   "cell_type": "code",
   "execution_count": null,
   "id": "901fd9d2-8038-4ca3-b2a2-27cbb9c80706",
   "metadata": {},
   "outputs": [],
   "source": []
  },
  {
   "cell_type": "code",
   "execution_count": 19,
   "id": "5f2ec885-2723-4862-ad6d-71f6850b5d0f",
   "metadata": {},
   "outputs": [
    {
     "name": "stdout",
     "output_type": "stream",
     "text": [
      "Model: \"sequential\"\n",
      "_________________________________________________________________\n",
      " Layer (type)                Output Shape              Param #   \n",
      "=================================================================\n",
      " vgg19 (Functional)          (None, 4, 4, 512)         20024384  \n",
      "                                                                 \n",
      " global_average_pooling2d (G  (None, 512)              0         \n",
      " lobalAveragePooling2D)                                          \n",
      "                                                                 \n",
      " dense (Dense)               (None, 512)               262656    \n",
      "                                                                 \n",
      " dropout (Dropout)           (None, 512)               0         \n",
      "                                                                 \n",
      " dense_1 (Dense)             (None, 9)                 4617      \n",
      "                                                                 \n",
      "=================================================================\n",
      "Total params: 20,291,657\n",
      "Trainable params: 9,706,505\n",
      "Non-trainable params: 10,585,152\n",
      "_________________________________________________________________\n"
     ]
    }
   ],
   "source": [
    "# Assign saved model to new_model\n",
    "# new_model = tf.keras.models.load_model('/content/drive/MyDrive/00_Graduated_project/my_model.keras')\n",
    "new_model = tf.keras.models.load_model('C:/Users/frolov/02_Graduation_project/my_model.keras')\n",
    "# Show the model architecture\n",
    "new_model.summary()"
   ]
  },
  {
   "cell_type": "code",
   "execution_count": null,
   "id": "b2b0877e-4e12-4c2d-aa44-fe8206be7055",
   "metadata": {},
   "outputs": [],
   "source": [
    "# Path to test data\n",
    "folder_path = '/content/drive/MyDrive/test_kaggle'\n",
    "folder_path"
   ]
  },
  {
   "cell_type": "code",
   "execution_count": null,
   "id": "45e759e1-7e35-457e-bdc9-66fc1e7ee506",
   "metadata": {},
   "outputs": [],
   "source": [
    "# Функция загрузки тестовых файлов\n",
    "import cv2\n",
    "import os\n",
    "\n",
    "def load_images_from_folder(folder):\n",
    "    images = {}\n",
    "    for filename in os.listdir(folder):\n",
    "        img = cv2.imread(os.path.join(folder, filename))\n",
    "        if img is not None:\n",
    "            images[filename] = img\n",
    "    return images"
   ]
  },
  {
   "cell_type": "code",
   "execution_count": null,
   "id": "951d9cc7-4e00-434a-8759-cff037a630b1",
   "metadata": {},
   "outputs": [],
   "source": [
    "# загружаем индекс файлов с изображениям и присваиваем переменной names названия тестовых изображений\n",
    "images = load_images_from_folder('/content/drive/MyDrive/test_kaggle')\n",
    "names = images.keys()"
   ]
  },
  {
   "cell_type": "code",
   "execution_count": null,
   "id": "1fd5047b-a317-4df0-9aeb-32e408c2c35d",
   "metadata": {},
   "outputs": [],
   "source": [
    "# Проверка корректности наименований изображений\n",
    "print(names)"
   ]
  },
  {
   "cell_type": "code",
   "execution_count": null,
   "id": "cffcf047-3d8c-4ba8-9121-ca85c6c49e2b",
   "metadata": {},
   "outputs": [],
   "source": [
    "# from keras_vggface import utils\n",
    "# from tensorflow.keras.preprocessing import image\n",
    "from keras.applications.resnet50 import preprocess_input"
   ]
  },
  {
   "cell_type": "code",
   "execution_count": null,
   "id": "7ba6121c-48b4-4640-8c12-36507666f060",
   "metadata": {},
   "outputs": [],
   "source": [
    "# В цикле идём по списку изображений с предсказанием эмоции для каждого из них\n",
    "\n",
    "for name in names:\n",
    "    image = images[name]\n",
    "    data = np.empty((1, 224, 224, 3))\n",
    "    image = cv2.resize(image, (224, 224))\n",
    "    data[0] = image\n",
    "    data = preprocess_input(data).astype('float32')\n",
    "    prediction = new_model(data) # модель предсказывает эмоцию в цикле\n",
    "    images[name] = np.argmax(prediction)\n",
    "\n",
    "# Создаём датасет изображение - эмоция\n",
    "df = pd.DataFrame({'image_path': names, 'emotion': images.values()})\n",
    "df.head()"
   ]
  },
  {
   "cell_type": "code",
   "execution_count": null,
   "id": "7dd2dd53-00a4-4b46-927c-087b7849885c",
   "metadata": {},
   "outputs": [],
   "source": [
    "# Создаём искомый csv файл sample_submission.csv для загрузки в Kaggle\n",
    "out_filepath = '/content/drive/MyDrive/00_Graduated_project/sample_submission.csv'\n",
    "\n",
    "df.to_csv(out_filepath, index=False, index_label=None)"
   ]
  },
  {
   "cell_type": "code",
   "execution_count": null,
   "id": "b713ef9e-113b-424c-93c4-2d5dbaf786ab",
   "metadata": {},
   "outputs": [],
   "source": []
  },
  {
   "cell_type": "markdown",
   "id": "ef373acd-7cb3-46d8-b9f6-2248f58b47d8",
   "metadata": {},
   "source": [
    "## Конвертирование полученного csv файла обратно в Pandas dataset, сортировка согласно требованиям, окончательный перевод в финальный csv.\n",
    "Процедура работает в **Jupyter**. Перевести в Colab."
   ]
  },
  {
   "cell_type": "code",
   "execution_count": null,
   "id": "d74aa939-4dec-4809-a0e8-d124ab4d9845",
   "metadata": {},
   "outputs": [],
   "source": [
    "# Считываем csv файл без индекса (path поменять соответсвенно) в датасет df_submission\n",
    "df_submission = pd.read_csv('C:/Users/frolov/02_Graduation_project/sample_submission_sorting.csv', index_col=0)"
   ]
  },
  {
   "cell_type": "code",
   "execution_count": null,
   "id": "4d129631-e689-4b0c-8ed5-6d7b4c583fc1",
   "metadata": {},
   "outputs": [],
   "source": [
    "submission_1 = df_submission.head()"
   ]
  },
  {
   "cell_type": "code",
   "execution_count": null,
   "id": "96907415-ff2c-487d-b97d-285a9b2763cc",
   "metadata": {},
   "outputs": [],
   "source": [
    "# emotion_mapping - словарь, который мы получаем мы получем вше при формировании датасета\n",
    "\n",
    "print(emotion_mapping)"
   ]
  },
  {
   "cell_type": "code",
   "execution_count": null,
   "id": "757564c7-a56a-4b56-9e3a-9b40120f6b29",
   "metadata": {},
   "outputs": [],
   "source": [
    "# Заменяем числа обозначающие эмоции обратно на названия согласно требованиям для финального файла csv\n",
    "\n",
    "submission_1 = df_submission.replace({'emotion':emotion_mapping})"
   ]
  },
  {
   "cell_type": "code",
   "execution_count": null,
   "id": "a3d63cad-deca-4d3e-9d50-11a18fae55d3",
   "metadata": {},
   "outputs": [],
   "source": [
    "submission_1.head()"
   ]
  },
  {
   "cell_type": "code",
   "execution_count": null,
   "id": "ef63c4f1-5330-4f00-8666-74c3f5b0a8ff",
   "metadata": {},
   "outputs": [],
   "source": [
    "# Установка модуля  сортировки \n",
    "pip install natsort"
   ]
  },
  {
   "cell_type": "code",
   "execution_count": null,
   "id": "a08cc8c4-bb88-4142-84b9-fa2a861bbd47",
   "metadata": {},
   "outputs": [],
   "source": [
    "# Импортируем модуль сортировки\n",
    "from natsort import natsorted, index_natsorted, order_by_index"
   ]
  },
  {
   "cell_type": "code",
   "execution_count": null,
   "id": "93186425-0fb7-4f88-9e8b-d78e57c7e049",
   "metadata": {},
   "outputs": [],
   "source": [
    "# Сортируем дфтасет по числовому порядку в index\n",
    "\n",
    "submission_1.index = natsorted(submission_1.index)"
   ]
  },
  {
   "cell_type": "code",
   "execution_count": null,
   "id": "d8a78428-660a-4f5c-80d9-3630875c824c",
   "metadata": {},
   "outputs": [],
   "source": [
    "# Конвертируем датасет в окончательный csv файл, отсортированный по порядку\n",
    "\n",
    "# Создаём путь для создания файла\n",
    "from pathlib import Path  \n",
    "filepath = Path('C:/Users/frolov/02_Graduation_project/submission_1.csv')  \n",
    "filepath.parent.mkdir(parents=True, exist_ok=True)  \n",
    "\n",
    "# Создаём файл csv с сохранением по пути filepath\n",
    "submission_1.to_csv(filepath, index=True)"
   ]
  },
  {
   "cell_type": "code",
   "execution_count": 6,
   "id": "907a4dce-4597-43e1-baba-2a31b8cc9c51",
   "metadata": {},
   "outputs": [
    {
     "name": "stdout",
     "output_type": "stream",
     "text": [
      "2.0\n"
     ]
    }
   ],
   "source": [
    "# Подготовка модулей к загрузке в GitHub"
   ]
  },
  {
   "cell_type": "code",
   "execution_count": null,
   "id": "9c1028d3-0a89-4061-883c-186b60781fbb",
   "metadata": {},
   "outputs": [],
   "source": []
  }
 ],
 "metadata": {
  "kernelspec": {
   "display_name": "Python 3 (ipykernel)",
   "language": "python",
   "name": "python3"
  },
  "language_info": {
   "codemirror_mode": {
    "name": "ipython",
    "version": 3
   },
   "file_extension": ".py",
   "mimetype": "text/x-python",
   "name": "python",
   "nbconvert_exporter": "python",
   "pygments_lexer": "ipython3",
   "version": "3.11.8"
  }
 },
 "nbformat": 4,
 "nbformat_minor": 5
}
